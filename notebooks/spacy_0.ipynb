{
 "cells": [
  {
   "cell_type": "code",
   "execution_count": 1,
   "source": [
    "# !pip install spacy"
   ],
   "outputs": [],
   "metadata": {}
  },
  {
   "cell_type": "code",
   "execution_count": 2,
   "source": [
    "# !python -m spacy download en_core_web_sm"
   ],
   "outputs": [],
   "metadata": {}
  },
  {
   "cell_type": "code",
   "execution_count": 3,
   "source": [
    "import spacy\r\n",
    "\r\n",
    "nlp = spacy.load('en_core_web_sm')\r\n",
    "\r\n",
    "sentence = \"Apple is looking at buying U.K. startup for $1 billion\"\r\n",
    "\r\n",
    "doc = nlp(sentence)\r\n",
    "\r\n",
    "for ent in doc.ents:\r\n",
    "\tprint(ent.text, ent.start_char, ent.end_char, ent.label_)\r\n"
   ],
   "outputs": [
    {
     "output_type": "stream",
     "name": "stdout",
     "text": [
      "Apple 0 5 ORG\n",
      "U.K. 27 31 GPE\n",
      "$1 billion 44 54 MONEY\n"
     ]
    }
   ],
   "metadata": {}
  },
  {
   "cell_type": "code",
   "execution_count": 4,
   "source": [
    "import spacy\r\n",
    "\r\n",
    "nlp = spacy.load('en_core_web_sm')\r\n",
    "\r\n",
    "sentence = \"apple is looking at buying U.K. startup for $1 billion\"\r\n",
    "\r\n",
    "doc = nlp(sentence)\r\n",
    "\r\n",
    "for ent in doc.ents:\r\n",
    "\tprint(ent.text, ent.start_char, ent.end_char, ent.label_)\r\n"
   ],
   "outputs": [
    {
     "output_type": "stream",
     "name": "stdout",
     "text": [
      "apple 0 5 ORG\n",
      "U.K. 27 31 GPE\n",
      "$1 billion 44 54 MONEY\n"
     ]
    }
   ],
   "metadata": {}
  },
  {
   "cell_type": "code",
   "execution_count": 6,
   "source": [
    "# import spacy\r\n",
    "# from spacy.gold import GoldParse\r\n",
    "# from spacy.language import EntityRecognizer\r\n",
    "\r\n",
    "# nlp = spacy.load('en', entity = False, parser = False)\r\n",
    "\r\n",
    "# doc_list = []\r\n",
    "# doc = nlp('Llamas make great pets.')\r\n",
    "# doc_list.append(doc)\r\n",
    "# gold_list = []\r\n",
    "# gold_list.append(GoldParse(doc, [u'ANIMAL', u'O', u'O', u'O']))\r\n",
    "\r\n",
    "# ner = EntityRecognizer(nlp.vocab, entity_types = ['ANIMAL'])\r\n",
    "# ner.update(doc_list, gold_list)\r\n"
   ],
   "outputs": [],
   "metadata": {}
  },
  {
   "cell_type": "code",
   "execution_count": null,
   "source": [],
   "outputs": [],
   "metadata": {}
  }
 ],
 "metadata": {
  "orig_nbformat": 4,
  "language_info": {
   "name": "python",
   "version": "3.7.6",
   "mimetype": "text/x-python",
   "codemirror_mode": {
    "name": "ipython",
    "version": 3
   },
   "pygments_lexer": "ipython3",
   "nbconvert_exporter": "python",
   "file_extension": ".py"
  },
  "kernelspec": {
   "name": "python3",
   "display_name": "Python 3.7.6 64-bit ('base': conda)"
  },
  "interpreter": {
   "hash": "b3ba2566441a7c06988d0923437866b63cedc61552a5af99d1f4fb67d367b25f"
  }
 },
 "nbformat": 4,
 "nbformat_minor": 2
}