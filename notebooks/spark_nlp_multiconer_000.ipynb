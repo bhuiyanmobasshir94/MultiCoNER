{
  "nbformat": 4,
  "nbformat_minor": 0,
  "metadata": {
    "colab": {
      "name": "spark_nlp_multiconer_000.ipynb",
      "provenance": [],
      "authorship_tag": "ABX9TyNrdkaJ7EAKNKjmuw4pJHKj",
      "include_colab_link": true
    },
    "kernelspec": {
      "name": "python3",
      "display_name": "Python 3"
    },
    "language_info": {
      "name": "python"
    },
    "accelerator": "GPU"
  },
  "cells": [
    {
      "cell_type": "markdown",
      "metadata": {
        "id": "view-in-github",
        "colab_type": "text"
      },
      "source": [
        "<a href=\"https://colab.research.google.com/github/bhuiyanmobasshir94/MultiCoNER/blob/main/notebooks/spark_nlp_multiconer_000.ipynb\" target=\"_parent\"><img src=\"https://colab.research.google.com/assets/colab-badge.svg\" alt=\"Open In Colab\"/></a>"
      ]
    },
    {
      "cell_type": "code",
      "execution_count": 1,
      "metadata": {
        "colab": {
          "base_uri": "https://localhost:8080/"
        },
        "id": "MsB0SgYYvBpV",
        "outputId": "2fa1360b-e79d-4fda-8d7a-dd8c14a845b2"
      },
      "outputs": [
        {
          "output_type": "stream",
          "name": "stdout",
          "text": [
            "--2022-01-12 19:21:35--  http://setup.johnsnowlabs.com/colab.sh\n",
            "Resolving setup.johnsnowlabs.com (setup.johnsnowlabs.com)... 51.158.130.125\n",
            "Connecting to setup.johnsnowlabs.com (setup.johnsnowlabs.com)|51.158.130.125|:80... connected.\n",
            "HTTP request sent, awaiting response... 302 Found\n",
            "Location: https://setup.johnsnowlabs.com/colab.sh [following]\n",
            "--2022-01-12 19:21:35--  https://setup.johnsnowlabs.com/colab.sh\n",
            "Connecting to setup.johnsnowlabs.com (setup.johnsnowlabs.com)|51.158.130.125|:443... connected.\n",
            "HTTP request sent, awaiting response... 302 Moved Temporarily\n",
            "Location: https://raw.githubusercontent.com/JohnSnowLabs/spark-nlp/master/scripts/colab_setup.sh [following]\n",
            "--2022-01-12 19:21:36--  https://raw.githubusercontent.com/JohnSnowLabs/spark-nlp/master/scripts/colab_setup.sh\n",
            "Resolving raw.githubusercontent.com (raw.githubusercontent.com)... 185.199.111.133, 185.199.108.133, 185.199.109.133, ...\n",
            "Connecting to raw.githubusercontent.com (raw.githubusercontent.com)|185.199.111.133|:443... connected.\n",
            "HTTP request sent, awaiting response... 200 OK\n",
            "Length: 1453 (1.4K) [text/plain]\n",
            "Saving to: ‘STDOUT’\n",
            "\n",
            "-                   100%[===================>]   1.42K  --.-KB/s    in 0s      \n",
            "\n",
            "2022-01-12 19:21:36 (27.1 MB/s) - written to stdout [1453/1453]\n",
            "\n",
            "setup Colab for PySpark 3.0.3 and Spark NLP 3.4.0\n",
            "Installing PySpark 3.0.3 and Spark NLP 3.4.0\n",
            "\u001b[K     |████████████████████████████████| 209.1 MB 68 kB/s \n",
            "\u001b[K     |████████████████████████████████| 140 kB 47.2 MB/s \n",
            "\u001b[K     |████████████████████████████████| 198 kB 46.4 MB/s \n",
            "\u001b[?25h  Building wheel for pyspark (setup.py) ... \u001b[?25l\u001b[?25hdone\n"
          ]
        }
      ],
      "source": [
        "# This is only to setup PySpark and Spark NLP on Colab\n",
        "!wget http://setup.johnsnowlabs.com/colab.sh -O - | bash"
      ]
    },
    {
      "cell_type": "code",
      "source": [
        "!pip install gdown\n",
        "!gdown --id 1AaaFcJ0Zzxr-fnlhlbp8mQePU6o8dFvk\n",
        "!unzip -u \"./BN_DATASET.zip\" -d \"./data\"\n",
        "!rm -f \"./BN_DATASET.zip\"\n",
        "!cp -r ./data/BN-Bangla/. ./data && rm -rf ./data/BN-Bangla"
      ],
      "metadata": {
        "colab": {
          "base_uri": "https://localhost:8080/"
        },
        "id": "vsrf9a7ivGDH",
        "outputId": "e18f4ba2-1ad7-4df4-ffc0-8a2d1423d476"
      },
      "execution_count": 9,
      "outputs": [
        {
          "output_type": "stream",
          "name": "stdout",
          "text": [
            "Requirement already satisfied: gdown in /usr/local/lib/python3.7/dist-packages (3.6.4)\n",
            "Requirement already satisfied: tqdm in /usr/local/lib/python3.7/dist-packages (from gdown) (4.62.3)\n",
            "Requirement already satisfied: requests in /usr/local/lib/python3.7/dist-packages (from gdown) (2.23.0)\n",
            "Requirement already satisfied: six in /usr/local/lib/python3.7/dist-packages (from gdown) (1.15.0)\n",
            "Requirement already satisfied: chardet<4,>=3.0.2 in /usr/local/lib/python3.7/dist-packages (from requests->gdown) (3.0.4)\n",
            "Requirement already satisfied: urllib3!=1.25.0,!=1.25.1,<1.26,>=1.21.1 in /usr/local/lib/python3.7/dist-packages (from requests->gdown) (1.24.3)\n",
            "Requirement already satisfied: idna<3,>=2.5 in /usr/local/lib/python3.7/dist-packages (from requests->gdown) (2.10)\n",
            "Requirement already satisfied: certifi>=2017.4.17 in /usr/local/lib/python3.7/dist-packages (from requests->gdown) (2021.10.8)\n",
            "Downloading...\n",
            "From: https://drive.google.com/uc?id=1AaaFcJ0Zzxr-fnlhlbp8mQePU6o8dFvk\n",
            "To: /content/BN_DATASET.zip\n",
            "100% 1.38M/1.38M [00:00<00:00, 90.3MB/s]\n",
            "Archive:  ./BN_DATASET.zip\n",
            "   creating: ./data/BN-Bangla/\n",
            "  inflating: ./data/BN-Bangla/bn_dev.conll  \n",
            "  inflating: ./data/BN-Bangla/bn_train.conll  \n"
          ]
        }
      ]
    },
    {
      "cell_type": "code",
      "source": [
        "import sparknlp\n",
        "from sparknlp.annotator import *\n",
        "from sparknlp.base import *"
      ],
      "metadata": {
        "id": "MKtEIbC0veiV"
      },
      "execution_count": 10,
      "outputs": []
    },
    {
      "cell_type": "code",
      "source": [
        "# if you have GPU\n",
        "spark = sparknlp.start(gpu=True)\n",
        "# spark = sparknlp.start()\n",
        "\n",
        "print(\"Spark NLP version: \", sparknlp.version())\n",
        "print(\"Apache Spark version: \", spark.version)"
      ],
      "metadata": {
        "colab": {
          "base_uri": "https://localhost:8080/"
        },
        "id": "WxG2CXYHv1uk",
        "outputId": "6855afb2-9bf6-44c5-9b9c-75702ecd34ad"
      },
      "execution_count": 11,
      "outputs": [
        {
          "output_type": "stream",
          "name": "stdout",
          "text": [
            "Spark NLP version:  3.4.0\n",
            "Apache Spark version:  3.0.3\n"
          ]
        }
      ]
    },
    {
      "cell_type": "code",
      "source": [
        "with open(\"data/bn_train.conll\") as f:\n",
        "    c=f.read()\n",
        "\n",
        "print (c[:200])"
      ],
      "metadata": {
        "colab": {
          "base_uri": "https://localhost:8080/"
        },
        "id": "3qDEzfs6wkfb",
        "outputId": "c3fcb14d-5361-4320-b970-e199e2a49542"
      },
      "execution_count": 12,
      "outputs": [
        {
          "output_type": "stream",
          "name": "stdout",
          "text": [
            "# id 5e80f5c9-1196-4906-826b-4cbdcaec7b6f\tdomain=train\n",
            "২০১৮ _ _ O\n",
            "এর _ _ O\n",
            "সেরা _ _ O\n",
            "(বর্ণানুক্রমিকভাবে _ _ O\n",
            "তালিকাভুক্ত, _ _ O\n",
            "র‍্যাঙ্ক _ _ O\n",
            "করা _ _ O\n",
            "হয়নি), _ _ O\n",
            "এনপিআর _ _ B-CORP\n",
            "\n",
            "# id ba55278\n"
          ]
        }
      ]
    },
    {
      "cell_type": "code",
      "source": [
        "from sparknlp.training import CoNLL\n",
        "\n",
        "training_data = CoNLL().readDataset(spark, \"./data/bn_train.conll\")\n",
        "training_data.show(3)"
      ],
      "metadata": {
        "colab": {
          "base_uri": "https://localhost:8080/"
        },
        "id": "mm4RN0kzw5gI",
        "outputId": "ed442714-e42f-48b8-9db4-62a3119b9203"
      },
      "execution_count": 13,
      "outputs": [
        {
          "output_type": "stream",
          "name": "stdout",
          "text": [
            "+--------------------+--------------------+--------------------+--------------------+--------------------+--------------------+\n",
            "|                text|            document|            sentence|               token|                 pos|               label|\n",
            "+--------------------+--------------------+--------------------+--------------------+--------------------+--------------------+\n",
            "|২০১৮ এর সেরা (বর্...|[[document, 0, 71...|[[document, 0, 71...|[[token, 0, 3, ২০...|[[pos, 0, 3, _, [...|[[named_entity, 0...|\n",
            "|১৮২৫ সালে, তিনি ব...|[[document, 0, 81...|[[document, 0, 81...|[[token, 0, 3, ১৮...|[[pos, 0, 3, _, [...|[[named_entity, 0...|\n",
            "|তিনি মার্কো মারুল...|[[document, 0, 53...|[[document, 0, 53...|[[token, 0, 3, তি...|[[pos, 0, 3, _, [...|[[named_entity, 0...|\n",
            "+--------------------+--------------------+--------------------+--------------------+--------------------+--------------------+\n",
            "only showing top 3 rows\n",
            "\n"
          ]
        }
      ]
    },
    {
      "cell_type": "code",
      "source": [
        "test_data = CoNLL().readDataset(spark, \"./data/bn_dev.conll\")\n",
        "test_data.show(3)"
      ],
      "metadata": {
        "colab": {
          "base_uri": "https://localhost:8080/"
        },
        "id": "9HdlbihSxD2D",
        "outputId": "7a9fcfc8-0168-4dfa-f088-39f9a16beba1"
      },
      "execution_count": 31,
      "outputs": [
        {
          "output_type": "stream",
          "name": "stdout",
          "text": [
            "+--------------------+--------------------+--------------------+--------------------+--------------------+--------------------+\n",
            "|                text|            document|            sentence|               token|                 pos|               label|\n",
            "+--------------------+--------------------+--------------------+--------------------+--------------------+--------------------+\n",
            "|সমস্ত বেতন নিলামে...|[[document, 0, 10...|[[document, 0, 10...|[[token, 0, 4, সম...|[[pos, 0, 4, _, [...|[[named_entity, 0...|\n",
            "|সংস্করণ ৩ প্রকাশে...|[[document, 0, 16...|[[document, 0, 16...|[[token, 0, 6, সং...|[[pos, 0, 6, _, [...|[[named_entity, 0...|\n",
            "|একটি পাইলট (হাটন ...|[[document, 0, 11...|[[document, 0, 11...|[[token, 0, 3, এক...|[[pos, 0, 3, _, [...|[[named_entity, 0...|\n",
            "+--------------------+--------------------+--------------------+--------------------+--------------------+--------------------+\n",
            "only showing top 3 rows\n",
            "\n"
          ]
        }
      ]
    },
    {
      "cell_type": "code",
      "source": [
        "training_data.count()"
      ],
      "metadata": {
        "colab": {
          "base_uri": "https://localhost:8080/"
        },
        "id": "cHHCs2nVxPC9",
        "outputId": "3ba280b6-0e24-4b57-c0f6-ddd1786ecead"
      },
      "execution_count": 24,
      "outputs": [
        {
          "output_type": "execute_result",
          "data": {
            "text/plain": [
              "15300"
            ]
          },
          "metadata": {},
          "execution_count": 24
        }
      ]
    },
    {
      "cell_type": "code",
      "source": [
        "test_data.count()"
      ],
      "metadata": {
        "colab": {
          "base_uri": "https://localhost:8080/"
        },
        "id": "T0MpgXlS0Isr",
        "outputId": "61dbcc21-8a8b-4859-fbf8-372a5e7b05a2"
      },
      "execution_count": 32,
      "outputs": [
        {
          "output_type": "execute_result",
          "data": {
            "text/plain": [
              "800"
            ]
          },
          "metadata": {},
          "execution_count": 32
        }
      ]
    },
    {
      "cell_type": "code",
      "source": [
        "# we use BERT Tiny\n",
        "bert_annotator = BertEmbeddings.pretrained('small_bert_L2_128', 'en') \\\n",
        " .setInputCols([\"sentence\",'token'])\\\n",
        " .setOutputCol(\"bert\")\\\n",
        ".setBatchSize(8)"
      ],
      "metadata": {
        "colab": {
          "base_uri": "https://localhost:8080/"
        },
        "id": "2O3NlWSE0Ohm",
        "outputId": "b029f589-15e0-4b72-f10a-8cf20badafc4"
      },
      "execution_count": 26,
      "outputs": [
        {
          "output_type": "stream",
          "name": "stdout",
          "text": [
            "small_bert_L2_128 download started this may take some time.\n",
            "Approximate size to download 16.1 MB\n",
            "[OK!]\n"
          ]
        }
      ]
    },
    {
      "cell_type": "code",
      "source": [
        "test_data = bert_annotator.transform(test_data)\n",
        "test_data.show(3)"
      ],
      "metadata": {
        "colab": {
          "base_uri": "https://localhost:8080/"
        },
        "id": "PsW5r8L101og",
        "outputId": "9699e6d3-df23-4f52-a77b-a651f466e2a1"
      },
      "execution_count": 33,
      "outputs": [
        {
          "output_type": "stream",
          "name": "stdout",
          "text": [
            "+--------------------+--------------------+--------------------+--------------------+--------------------+--------------------+--------------------+\n",
            "|                text|            document|            sentence|               token|                 pos|               label|                bert|\n",
            "+--------------------+--------------------+--------------------+--------------------+--------------------+--------------------+--------------------+\n",
            "|সমস্ত বেতন নিলামে...|[[document, 0, 10...|[[document, 0, 10...|[[token, 0, 4, সম...|[[pos, 0, 4, _, [...|[[named_entity, 0...|[[word_embeddings...|\n",
            "|সংস্করণ ৩ প্রকাশে...|[[document, 0, 16...|[[document, 0, 16...|[[token, 0, 6, সং...|[[pos, 0, 6, _, [...|[[named_entity, 0...|[[word_embeddings...|\n",
            "|একটি পাইলট (হাটন ...|[[document, 0, 11...|[[document, 0, 11...|[[token, 0, 3, এক...|[[pos, 0, 3, _, [...|[[named_entity, 0...|[[word_embeddings...|\n",
            "+--------------------+--------------------+--------------------+--------------------+--------------------+--------------------+--------------------+\n",
            "only showing top 3 rows\n",
            "\n"
          ]
        }
      ]
    },
    {
      "cell_type": "code",
      "source": [
        "# let's transform and save our test dataset for evaluation\n",
        "test_data.write.parquet(\"test_withEmbeds.parquet\")"
      ],
      "metadata": {
        "id": "TpvIzLuJ1KtN"
      },
      "execution_count": 34,
      "outputs": []
    },
    {
      "cell_type": "code",
      "source": [
        "test_data.select(\"bert.result\",\"bert.embeddings\",'label.result').show()"
      ],
      "metadata": {
        "colab": {
          "base_uri": "https://localhost:8080/"
        },
        "id": "TO6qcim61ijm",
        "outputId": "6706be3d-24ba-47ca-e8ad-7c8c1078aa62"
      },
      "execution_count": 35,
      "outputs": [
        {
          "output_type": "stream",
          "name": "stdout",
          "text": [
            "+--------------------+--------------------+--------------------+\n",
            "|              result|          embeddings|              result|\n",
            "+--------------------+--------------------+--------------------+\n",
            "|[সমস্ত, বেতন, নিল...|[[-1.1855662, 0.7...|[O, O, O, O, O, O...|\n",
            "|[সংস্করণ, ৩, প্রক...|[[-1.3764335, 0.9...|[O, O, O, O, B-CW...|\n",
            "|[একটি, পাইলট, (হা...|[[-0.863451, 0.20...|[O, O, O, O, O, B...|\n",
            "|[প্রাইমাভেরা, ঝুঁ...|[[-1.2236071, 0.9...|[B-CW, O, O, O, O...|\n",
            "|[১৮০০, -এর, দশকে,...|[[-1.1398509, 0.8...|[O, O, O, B-PER, ...|\n",
            "|[চারজন, বিজয়ী, ড...|[[-1.0752249, 0.2...|[O, O, O, O, B-PE...|\n",
            "|[এটি, ছিল, নাটকীয...|[[-0.777618, 0.51...|[O, O, O, O, O, B...|\n",
            "|[এর, মধ্যে, একটি,...|[[-1.226814, 0.39...|[O, O, O, B-CORP,...|\n",
            "|[এরলং, সুযোগ, সমা...|[[-0.9119873, 0.4...|[B-CW, O, O, O, O...|\n",
            "|[যদিও, গির্জার, স...|[[-1.0261637, 0.6...|[O, O, O, O, B-PR...|\n",
            "|[দ্য, ম্যাগনিফিসে...|[[-1.563148, 0.98...|[B-CW, I-CW, I-CW...|\n",
            "|[দীর্ঘ, সময়, ধরে...|[[-1.3828295, 0.9...|[O, O, O, O, O, O...|\n",
            "|[তা, সত্ত্বেও,, এ...|[[-1.0386491, 0.0...|[O, O, O, O, O, O...|\n",
            "|[এগুলি, জানালা, অ...|[[-1.6251746, 1.0...|[O, B-PROD, I-PRO...|\n",
            "|[২০০৪, সালে,, তিন...|[[-1.3541148, 0.6...|[O, O, O, B-CORP,...|\n",
            "|[কোহলের, (একই, পা...|[[-1.4005109, 0.2...|[B-CORP, O, O, O,...|\n",
            "|[ইসরাইল, সেই, বছর...|[[-1.225379, 0.67...|[O, O, O, O, O, O...|\n",
            "|[১৯৫৭, সালে,, নাট...|[[-1.4718883, 0.7...|[O, O, O, B-PER, ...|\n",
            "|[কিছু, পৌরাণিক, ক...|[[-1.3991214, 1.0...|[O, O, O, O, B-PE...|\n",
            "|[৩৫১০, এর, ক্লাসি...|[[-1.4262764, 0.9...|[O, O, O, B-PROD,...|\n",
            "+--------------------+--------------------+--------------------+\n",
            "only showing top 20 rows\n",
            "\n"
          ]
        }
      ]
    },
    {
      "cell_type": "code",
      "source": [
        "nerTagger = NerDLApproach()\\\n",
        "  .setInputCols([\"sentence\", \"token\", \"bert\"])\\\n",
        "  .setLabelColumn(\"label\")\\\n",
        "  .setOutputCol(\"ner\")\\\n",
        "  .setGraphFolder(\"/content/data\")\\\n",
        "  .setMaxEpochs(5)\\\n",
        "  .setLr(0.001)\\\n",
        "  .setPo(0.005)\\\n",
        "  .setBatchSize(32)\\\n",
        "  .setEvaluationLogExtended(True) \\\n",
        "  .setEnableOutputLogs(True)\\\n",
        "  .setTestDataset(\"test_withEmbeds.parquet\")\n",
        "\n",
        "pipeline = Pipeline(\n",
        "    stages = [\n",
        "    bert_annotator,\n",
        "    nerTagger\n",
        "  ])"
      ],
      "metadata": {
        "id": "6ql1lGcm1npN"
      },
      "execution_count": 100,
      "outputs": []
    },
    {
      "cell_type": "code",
      "source": [
        "ner_model = pipeline.fit(training_data)"
      ],
      "metadata": {
        "id": "2E2jr_Nz1-Kg"
      },
      "execution_count": null,
      "outputs": []
    },
    {
      "cell_type": "code",
      "source": [
        "# !git clone https://github.com/JohnSnowLabs/spark-nlp"
      ],
      "metadata": {
        "id": "lQN9VKAS2Fx0"
      },
      "execution_count": 92,
      "outputs": []
    },
    {
      "cell_type": "code",
      "source": [
        "# %cd spark-nlp/python/tensorflow\n",
        "# %cd /content"
      ],
      "metadata": {
        "id": "XJ7Dj4S56Irn"
      },
      "execution_count": 96,
      "outputs": []
    },
    {
      "cell_type": "code",
      "source": [
        "# %env PYTHONPATH=\"/env/python:/content/spark-nlp/python/tensorflow/lib/ner\"\n",
        "# %env PYTHONPATH=\"$/env/python:/content/spark-nlp/python/tensorflow/lib/ner\"\n",
        "# %set_env PYTHONPATH=/content/spark-nlp/python/tensorflow/lib/ner:/env/python ## working solution\n",
        "# %set_env PYTHONPATH=/env/python"
      ],
      "metadata": {
        "id": "TVBUE5MW6XDX"
      },
      "execution_count": 94,
      "outputs": []
    },
    {
      "cell_type": "code",
      "source": [
        "# !source /content/ner_venv/bin/activate; python ner/create_models.py 13 128 220 /content/data"
      ],
      "metadata": {
        "id": "aFXm0jl66cAo"
      },
      "execution_count": 90,
      "outputs": []
    },
    {
      "cell_type": "code",
      "source": [
        "# !pip install virtualenv\n",
        "# !virtualenv ner_venv\n",
        "# !virtualenv -p /usr/bin/python3.6 ner_venv ## working solution"
      ],
      "metadata": {
        "id": "co3ONkd_9WNG"
      },
      "execution_count": 82,
      "outputs": []
    },
    {
      "cell_type": "code",
      "source": [
        "# !source /content/ner_venv/bin/activate; pip install tensorflow==1.15.0"
      ],
      "metadata": {
        "id": "0AjaeVMk_VW_"
      },
      "execution_count": 88,
      "outputs": []
    },
    {
      "cell_type": "code",
      "source": [
        ""
      ],
      "metadata": {
        "id": "TRum28PRAlW4"
      },
      "execution_count": null,
      "outputs": []
    }
  ]
}