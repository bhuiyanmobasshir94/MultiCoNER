{
  "nbformat": 4,
  "nbformat_minor": 0,
  "metadata": {
    "colab": {
      "name": "spark_nlp_multiconer_000.ipynb",
      "provenance": [],
      "mount_file_id": "https://github.com/bhuiyanmobasshir94/MultiCoNER/blob/main/notebooks/spark_nlp_multiconer_000.ipynb",
      "authorship_tag": "ABX9TyOTJpmKrG8I6FQFRW3oU4GC",
      "include_colab_link": true
    },
    "kernelspec": {
      "name": "python3",
      "display_name": "Python 3"
    },
    "language_info": {
      "name": "python"
    },
    "accelerator": "GPU"
  },
  "cells": [
    {
      "cell_type": "markdown",
      "metadata": {
        "id": "view-in-github",
        "colab_type": "text"
      },
      "source": [
        "<a href=\"https://colab.research.google.com/github/bhuiyanmobasshir94/MultiCoNER/blob/main/notebooks/spark_nlp_multiconer_000.ipynb\" target=\"_parent\"><img src=\"https://colab.research.google.com/assets/colab-badge.svg\" alt=\"Open In Colab\"/></a>"
      ]
    },
    {
      "cell_type": "code",
      "execution_count": 1,
      "metadata": {
        "colab": {
          "base_uri": "https://localhost:8080/"
        },
        "id": "MsB0SgYYvBpV",
        "outputId": "e866b7fc-8245-45e1-cb0f-089ed53405b8"
      },
      "outputs": [
        {
          "output_type": "stream",
          "name": "stdout",
          "text": [
            "--2022-01-17 06:14:42--  http://setup.johnsnowlabs.com/colab.sh\n",
            "Resolving setup.johnsnowlabs.com (setup.johnsnowlabs.com)... 51.158.130.125\n",
            "Connecting to setup.johnsnowlabs.com (setup.johnsnowlabs.com)|51.158.130.125|:80... connected.\n",
            "HTTP request sent, awaiting response... 302 Found\n",
            "Location: https://setup.johnsnowlabs.com/colab.sh [following]\n",
            "--2022-01-17 06:14:44--  https://setup.johnsnowlabs.com/colab.sh\n",
            "Connecting to setup.johnsnowlabs.com (setup.johnsnowlabs.com)|51.158.130.125|:443... connected.\n",
            "HTTP request sent, awaiting response... 302 Moved Temporarily\n",
            "Location: https://raw.githubusercontent.com/JohnSnowLabs/spark-nlp/master/scripts/colab_setup.sh [following]\n",
            "--2022-01-17 06:14:45--  https://raw.githubusercontent.com/JohnSnowLabs/spark-nlp/master/scripts/colab_setup.sh\n",
            "Resolving raw.githubusercontent.com (raw.githubusercontent.com)... 185.199.109.133, 185.199.111.133, 185.199.110.133, ...\n",
            "Connecting to raw.githubusercontent.com (raw.githubusercontent.com)|185.199.109.133|:443... connected.\n",
            "HTTP request sent, awaiting response... 200 OK\n",
            "Length: 1453 (1.4K) [text/plain]\n",
            "Saving to: ‘STDOUT’\n",
            "\n",
            "-                   100%[===================>]   1.42K  --.-KB/s    in 0s      \n",
            "\n",
            "2022-01-17 06:14:45 (14.2 MB/s) - written to stdout [1453/1453]\n",
            "\n",
            "setup Colab for PySpark 3.0.3 and Spark NLP 3.4.0\n",
            "Installing PySpark 3.0.3 and Spark NLP 3.4.0\n",
            "\u001b[K     |████████████████████████████████| 209.1 MB 64 kB/s \n",
            "\u001b[K     |████████████████████████████████| 140 kB 70.5 MB/s \n",
            "\u001b[K     |████████████████████████████████| 198 kB 73.9 MB/s \n",
            "\u001b[?25h  Building wheel for pyspark (setup.py) ... \u001b[?25l\u001b[?25hdone\n"
          ]
        }
      ],
      "source": [
        "# This is only to setup PySpark and Spark NLP on Colab\n",
        "!wget http://setup.johnsnowlabs.com/colab.sh -O - | bash"
      ]
    },
    {
      "cell_type": "code",
      "source": [
        "# !pip install gdown\n",
        "# !gdown --id 1AaaFcJ0Zzxr-fnlhlbp8mQePU6o8dFvk\n",
        "# !unzip -u \"./BN_DATASET.zip\" -d \"./data\"\n",
        "# !rm -f \"./BN_DATASET.zip\"\n",
        "# !cp -r ./data/BN-Bangla/. ./data && rm -rf ./data/BN-Bangla"
      ],
      "metadata": {
        "id": "vsrf9a7ivGDH"
      },
      "execution_count": 2,
      "outputs": []
    },
    {
      "cell_type": "code",
      "source": [
        "import sparknlp\n",
        "from sparknlp.annotator import *\n",
        "from sparknlp.base import *"
      ],
      "metadata": {
        "id": "MKtEIbC0veiV"
      },
      "execution_count": 3,
      "outputs": []
    },
    {
      "cell_type": "code",
      "source": [
        "# if you have GPU\n",
        "spark = sparknlp.start(gpu=True)\n",
        "# spark = sparknlp.start()\n",
        "\n",
        "print(\"Spark NLP version: \", sparknlp.version())\n",
        "print(\"Apache Spark version: \", spark.version)"
      ],
      "metadata": {
        "colab": {
          "base_uri": "https://localhost:8080/"
        },
        "id": "WxG2CXYHv1uk",
        "outputId": "8286d098-81d9-4b2b-f80c-2ed9a19569fc"
      },
      "execution_count": 4,
      "outputs": [
        {
          "output_type": "stream",
          "name": "stdout",
          "text": [
            "Spark NLP version:  3.4.0\n",
            "Apache Spark version:  3.0.3\n"
          ]
        }
      ]
    },
    {
      "cell_type": "code",
      "source": [
        "with open(\"/content/drive/MyDrive/MULTICONER/bn_train.conll\") as f:\n",
        "    c=f.read()\n",
        "\n",
        "print (c[:200])"
      ],
      "metadata": {
        "colab": {
          "base_uri": "https://localhost:8080/"
        },
        "id": "3qDEzfs6wkfb",
        "outputId": "f5ee21ac-97b7-4eda-8a99-0eabd3405768"
      },
      "execution_count": 5,
      "outputs": [
        {
          "output_type": "stream",
          "name": "stdout",
          "text": [
            "# id 5e80f5c9-1196-4906-826b-4cbdcaec7b6f\tdomain=train\n",
            "২০১৮ _ _ O\n",
            "এর _ _ O\n",
            "সেরা _ _ O\n",
            "(বর্ণানুক্রমিকভাবে _ _ O\n",
            "তালিকাভুক্ত, _ _ O\n",
            "র‍্যাঙ্ক _ _ O\n",
            "করা _ _ O\n",
            "হয়নি), _ _ O\n",
            "এনপিআর _ _ B-CORP\n",
            "\n",
            "# id ba55278\n"
          ]
        }
      ]
    },
    {
      "cell_type": "code",
      "source": [
        "from sparknlp.training import CoNLL\n",
        "\n",
        "training_data = CoNLL().readDataset(spark, \"/content/drive/MyDrive/MULTICONER/bn_train.conll\")\n",
        "training_data.show(3)"
      ],
      "metadata": {
        "colab": {
          "base_uri": "https://localhost:8080/"
        },
        "id": "mm4RN0kzw5gI",
        "outputId": "21316b98-9a96-450f-f88c-f234c5dd9feb"
      },
      "execution_count": 6,
      "outputs": [
        {
          "output_type": "stream",
          "name": "stdout",
          "text": [
            "+--------------------+--------------------+--------------------+--------------------+--------------------+--------------------+\n",
            "|                text|            document|            sentence|               token|                 pos|               label|\n",
            "+--------------------+--------------------+--------------------+--------------------+--------------------+--------------------+\n",
            "|২০১৮ এর সেরা (বর্...|[[document, 0, 71...|[[document, 0, 71...|[[token, 0, 3, ২০...|[[pos, 0, 3, _, [...|[[named_entity, 0...|\n",
            "|১৮২৫ সালে, তিনি ব...|[[document, 0, 81...|[[document, 0, 81...|[[token, 0, 3, ১৮...|[[pos, 0, 3, _, [...|[[named_entity, 0...|\n",
            "|তিনি মার্কো মারুল...|[[document, 0, 53...|[[document, 0, 53...|[[token, 0, 3, তি...|[[pos, 0, 3, _, [...|[[named_entity, 0...|\n",
            "+--------------------+--------------------+--------------------+--------------------+--------------------+--------------------+\n",
            "only showing top 3 rows\n",
            "\n"
          ]
        }
      ]
    },
    {
      "cell_type": "code",
      "source": [
        "test_data = CoNLL().readDataset(spark, \"/content/drive/MyDrive/MULTICONER/bn_dev.conll\")\n",
        "test_data.show(3)"
      ],
      "metadata": {
        "colab": {
          "base_uri": "https://localhost:8080/"
        },
        "id": "9HdlbihSxD2D",
        "outputId": "4c6446ba-c7a6-4df3-fd4a-20c9a2ec3742"
      },
      "execution_count": 7,
      "outputs": [
        {
          "output_type": "stream",
          "name": "stdout",
          "text": [
            "+--------------------+--------------------+--------------------+--------------------+--------------------+--------------------+\n",
            "|                text|            document|            sentence|               token|                 pos|               label|\n",
            "+--------------------+--------------------+--------------------+--------------------+--------------------+--------------------+\n",
            "|সমস্ত বেতন নিলামে...|[[document, 0, 10...|[[document, 0, 10...|[[token, 0, 4, সম...|[[pos, 0, 4, _, [...|[[named_entity, 0...|\n",
            "|সংস্করণ ৩ প্রকাশে...|[[document, 0, 16...|[[document, 0, 16...|[[token, 0, 6, সং...|[[pos, 0, 6, _, [...|[[named_entity, 0...|\n",
            "|একটি পাইলট (হাটন ...|[[document, 0, 11...|[[document, 0, 11...|[[token, 0, 3, এক...|[[pos, 0, 3, _, [...|[[named_entity, 0...|\n",
            "+--------------------+--------------------+--------------------+--------------------+--------------------+--------------------+\n",
            "only showing top 3 rows\n",
            "\n"
          ]
        }
      ]
    },
    {
      "cell_type": "code",
      "source": [
        "training_data.count()"
      ],
      "metadata": {
        "colab": {
          "base_uri": "https://localhost:8080/"
        },
        "id": "cHHCs2nVxPC9",
        "outputId": "cfd0cfe2-5428-475c-e299-a04f6a47937e"
      },
      "execution_count": 8,
      "outputs": [
        {
          "output_type": "execute_result",
          "data": {
            "text/plain": [
              "15300"
            ]
          },
          "metadata": {},
          "execution_count": 8
        }
      ]
    },
    {
      "cell_type": "code",
      "source": [
        "test_data.count()"
      ],
      "metadata": {
        "colab": {
          "base_uri": "https://localhost:8080/"
        },
        "id": "T0MpgXlS0Isr",
        "outputId": "0524769f-e6cb-4c77-e280-fbca93036d2b"
      },
      "execution_count": 9,
      "outputs": [
        {
          "output_type": "execute_result",
          "data": {
            "text/plain": [
              "800"
            ]
          },
          "metadata": {},
          "execution_count": 9
        }
      ]
    },
    {
      "cell_type": "code",
      "source": [
        "# we use BERT Tiny\n",
        "bert_annotator = BertEmbeddings.pretrained('small_bert_L2_128', 'en') \\\n",
        " .setInputCols([\"sentence\",'token'])\\\n",
        " .setOutputCol(\"bert\")\\\n",
        ".setBatchSize(8)"
      ],
      "metadata": {
        "colab": {
          "base_uri": "https://localhost:8080/"
        },
        "id": "2O3NlWSE0Ohm",
        "outputId": "1f1e5396-d917-4664-cb28-1398fe1eddcb"
      },
      "execution_count": 10,
      "outputs": [
        {
          "output_type": "stream",
          "name": "stdout",
          "text": [
            "small_bert_L2_128 download started this may take some time.\n",
            "Approximate size to download 16.1 MB\n",
            "[OK!]\n"
          ]
        }
      ]
    },
    {
      "cell_type": "code",
      "source": [
        "test_data = bert_annotator.transform(test_data)\n",
        "test_data.show(3)"
      ],
      "metadata": {
        "colab": {
          "base_uri": "https://localhost:8080/"
        },
        "id": "PsW5r8L101og",
        "outputId": "f5bc7992-668f-463a-e33f-ec7adf156240"
      },
      "execution_count": 11,
      "outputs": [
        {
          "output_type": "stream",
          "name": "stdout",
          "text": [
            "+--------------------+--------------------+--------------------+--------------------+--------------------+--------------------+--------------------+\n",
            "|                text|            document|            sentence|               token|                 pos|               label|                bert|\n",
            "+--------------------+--------------------+--------------------+--------------------+--------------------+--------------------+--------------------+\n",
            "|সমস্ত বেতন নিলামে...|[[document, 0, 10...|[[document, 0, 10...|[[token, 0, 4, সম...|[[pos, 0, 4, _, [...|[[named_entity, 0...|[[word_embeddings...|\n",
            "|সংস্করণ ৩ প্রকাশে...|[[document, 0, 16...|[[document, 0, 16...|[[token, 0, 6, সং...|[[pos, 0, 6, _, [...|[[named_entity, 0...|[[word_embeddings...|\n",
            "|একটি পাইলট (হাটন ...|[[document, 0, 11...|[[document, 0, 11...|[[token, 0, 3, এক...|[[pos, 0, 3, _, [...|[[named_entity, 0...|[[word_embeddings...|\n",
            "+--------------------+--------------------+--------------------+--------------------+--------------------+--------------------+--------------------+\n",
            "only showing top 3 rows\n",
            "\n"
          ]
        }
      ]
    },
    {
      "cell_type": "code",
      "source": [
        "# let's transform and save our test dataset for evaluation\n",
        "test_data.write.parquet(\"test_withEmbeds.parquet\")"
      ],
      "metadata": {
        "id": "TpvIzLuJ1KtN"
      },
      "execution_count": 12,
      "outputs": []
    },
    {
      "cell_type": "code",
      "source": [
        "test_data.select(\"bert.result\",\"bert.embeddings\",'label.result').show()"
      ],
      "metadata": {
        "colab": {
          "base_uri": "https://localhost:8080/"
        },
        "id": "TO6qcim61ijm",
        "outputId": "07a91645-684f-4642-e1c5-4ea6a1f118af"
      },
      "execution_count": 13,
      "outputs": [
        {
          "output_type": "stream",
          "name": "stdout",
          "text": [
            "+--------------------+--------------------+--------------------+\n",
            "|              result|          embeddings|              result|\n",
            "+--------------------+--------------------+--------------------+\n",
            "|[সমস্ত, বেতন, নিল...|[[-1.1855663, 0.7...|[O, O, O, O, O, O...|\n",
            "|[সংস্করণ, ৩, প্রক...|[[-1.376434, 0.92...|[O, O, O, O, B-CW...|\n",
            "|[একটি, পাইলট, (হা...|[[-0.86345154, 0....|[O, O, O, O, O, B...|\n",
            "|[প্রাইমাভেরা, ঝুঁ...|[[-1.2236066, 0.9...|[B-CW, O, O, O, O...|\n",
            "|[১৮০০, -এর, দশকে,...|[[-1.1398506, 0.8...|[O, O, O, B-PER, ...|\n",
            "|[চারজন, বিজয়ী, ড...|[[-1.0752248, 0.2...|[O, O, O, O, B-PE...|\n",
            "|[এটি, ছিল, নাটকীয...|[[-0.7776178, 0.5...|[O, O, O, O, O, B...|\n",
            "|[এর, মধ্যে, একটি,...|[[-1.2268137, 0.3...|[O, O, O, B-CORP,...|\n",
            "|[এরলং, সুযোগ, সমা...|[[-0.9119878, 0.4...|[B-CW, O, O, O, O...|\n",
            "|[যদিও, গির্জার, স...|[[-1.0261633, 0.6...|[O, O, O, O, B-PR...|\n",
            "|[দ্য, ম্যাগনিফিসে...|[[-1.5631484, 0.9...|[B-CW, I-CW, I-CW...|\n",
            "|[দীর্ঘ, সময়, ধরে...|[[-1.3828299, 0.9...|[O, O, O, O, O, O...|\n",
            "|[তা, সত্ত্বেও,, এ...|[[-1.038649, 0.03...|[O, O, O, O, O, O...|\n",
            "|[এগুলি, জানালা, অ...|[[-1.6251755, 1.0...|[O, B-PROD, I-PRO...|\n",
            "|[২০০৪, সালে,, তিন...|[[-1.3541149, 0.6...|[O, O, O, B-CORP,...|\n",
            "|[কোহলের, (একই, পা...|[[-1.4005109, 0.2...|[B-CORP, O, O, O,...|\n",
            "|[ইসরাইল, সেই, বছর...|[[-1.2253795, 0.6...|[O, O, O, O, O, O...|\n",
            "|[১৯৫৭, সালে,, নাট...|[[-1.471889, 0.79...|[O, O, O, B-PER, ...|\n",
            "|[কিছু, পৌরাণিক, ক...|[[-1.3991213, 1.0...|[O, O, O, O, B-PE...|\n",
            "|[৩৫১০, এর, ক্লাসি...|[[-1.4262772, 0.9...|[O, O, O, B-PROD,...|\n",
            "+--------------------+--------------------+--------------------+\n",
            "only showing top 20 rows\n",
            "\n"
          ]
        }
      ]
    },
    {
      "cell_type": "code",
      "source": [
        "nerTagger = NerDLApproach()\\\n",
        "  .setInputCols([\"sentence\", \"token\", \"bert\"])\\\n",
        "  .setLabelColumn(\"label\")\\\n",
        "  .setOutputCol(\"ner\")\\\n",
        "  .setGraphFolder(\"/content/drive/MyDrive/MULTICONER\")\\\n",
        "  .setMaxEpochs(10)\\\n",
        "  .setLr(0.001)\\\n",
        "  .setPo(0.005)\\\n",
        "  .setBatchSize(32)\\\n",
        "  .setEvaluationLogExtended(True) \\\n",
        "  .setEnableOutputLogs(True)\\\n",
        "  .setTestDataset(\"test_withEmbeds.parquet\")\n",
        "\n",
        "pipeline = Pipeline(\n",
        "    stages = [\n",
        "    bert_annotator,\n",
        "    nerTagger\n",
        "  ])"
      ],
      "metadata": {
        "id": "6ql1lGcm1npN"
      },
      "execution_count": 14,
      "outputs": []
    },
    {
      "cell_type": "code",
      "source": [
        "ner_model = pipeline.fit(training_data)"
      ],
      "metadata": {
        "id": "2E2jr_Nz1-Kg"
      },
      "execution_count": 15,
      "outputs": []
    },
    {
      "cell_type": "code",
      "source": [
        "!ls -l /root/annotator_logs/"
      ],
      "metadata": {
        "id": "KpaDclpisqOw",
        "outputId": "1ec0f8b6-a3e9-497d-b251-002d644e0a8c",
        "colab": {
          "base_uri": "https://localhost:8080/"
        }
      },
      "execution_count": 16,
      "outputs": [
        {
          "output_type": "stream",
          "name": "stdout",
          "text": [
            "total 12\n",
            "-rw-r--r-- 1 root root 10120 Jan 17 06:28 NerDLApproach_2f8732b6f85a.log\n"
          ]
        }
      ]
    },
    {
      "cell_type": "code",
      "source": [
        "!cat /root/annotator_logs/NerDLApproach_2f8732b6f85a.log"
      ],
      "metadata": {
        "id": "sz4AA_NQsqL4",
        "outputId": "f3f20c89-0176-4b3d-8ec7-04f876b786e8",
        "colab": {
          "base_uri": "https://localhost:8080/"
        }
      },
      "execution_count": 17,
      "outputs": [
        {
          "output_type": "stream",
          "name": "stdout",
          "text": [
            "Name of the selected graph: /content/drive/MyDrive/MULTICONER/blstm_13_128_128_220.pb\n",
            "Training started - total epochs: 10 - lr: 0.001 - batch size: 32 - labels: 13 - chars: 219 - training examples: 15300\n",
            "\n",
            "\n",
            "Epoch 1/10 started, lr: 0.001, dataset size: 15300\n",
            "\n",
            "\n",
            "Epoch 1/10 - 51.24s - loss: 4078.211 - batches: 480\n",
            "Quality on test dataset: \n",
            "time to finish evaluation: 1.71s\n",
            "label\t tp\t fp\t fn\t prec\t rec\t f1\n",
            "B-LOC\t 19\t 39\t 82\t 0.3275862\t 0.18811882\t 0.23899372\n",
            "B-PROD\t 4\t 16\t 186\t 0.2\t 0.021052632\t 0.03809524\n",
            "B-CW\t 0\t 0\t 120\t 0.0\t 0.0\t 0.0\n",
            "I-GRP\t 103\t 167\t 123\t 0.38148147\t 0.45575222\t 0.4153226\n",
            "B-CORP\t 9\t 10\t 118\t 0.47368422\t 0.070866145\t 0.12328768\n",
            "B-GRP\t 38\t 67\t 80\t 0.36190477\t 0.3220339\t 0.3408072\n",
            "I-CORP\t 9\t 19\t 113\t 0.32142857\t 0.07377049\t 0.120000005\n",
            "I-LOC\t 2\t 6\t 59\t 0.25\t 0.032786883\t 0.05797101\n",
            "I-PER\t 81\t 146\t 99\t 0.35682818\t 0.45\t 0.3980344\n",
            "I-PROD\t 2\t 17\t 127\t 0.10526316\t 0.015503876\t 0.027027026\n",
            "I-CW\t 0\t 0\t 161\t 0.0\t 0.0\t 0.0\n",
            "B-PER\t 67\t 112\t 77\t 0.37430167\t 0.4652778\t 0.41486067\n",
            "tp: 334 fp: 599 fn: 1345 labels: 12\n",
            "Macro-average\t prec: 0.26270655, rec: 0.1745969, f1: 0.20977537\n",
            "Micro-average\t prec: 0.357985, rec: 0.19892794, f1: 0.25574273\n",
            "\n",
            "\n",
            "Epoch 2/10 started, lr: 9.950249E-4, dataset size: 15300\n",
            "\n",
            "\n",
            "Epoch 2/10 - 39.77s - loss: 2595.9446 - batches: 480\n",
            "Quality on test dataset: \n",
            "time to finish evaluation: 0.98s\n",
            "label\t tp\t fp\t fn\t prec\t rec\t f1\n",
            "B-LOC\t 44\t 107\t 57\t 0.29139072\t 0.43564355\t 0.34920633\n",
            "B-PROD\t 7\t 16\t 183\t 0.3043478\t 0.036842104\t 0.065727696\n",
            "B-CW\t 3\t 11\t 117\t 0.21428572\t 0.025\t 0.04477612\n",
            "I-GRP\t 106\t 107\t 120\t 0.4976526\t 0.46902654\t 0.48291573\n",
            "B-CORP\t 18\t 39\t 109\t 0.31578946\t 0.14173229\t 0.19565219\n",
            "B-GRP\t 43\t 52\t 75\t 0.4526316\t 0.3644068\t 0.40375587\n",
            "I-CORP\t 23\t 56\t 99\t 0.29113925\t 0.18852459\t 0.22885571\n",
            "I-LOC\t 7\t 12\t 54\t 0.36842105\t 0.114754096\t 0.175\n",
            "I-PER\t 66\t 63\t 114\t 0.5116279\t 0.36666667\t 0.42718446\n",
            "I-PROD\t 4\t 4\t 125\t 0.5\t 0.031007752\t 0.05839416\n",
            "I-CW\t 9\t 13\t 152\t 0.4090909\t 0.055900622\t 0.09836065\n",
            "B-PER\t 60\t 60\t 84\t 0.5\t 0.41666666\t 0.45454547\n",
            "tp: 390 fp: 540 fn: 1289 labels: 12\n",
            "Macro-average\t prec: 0.3880314, rec: 0.22051431, f1: 0.28121626\n",
            "Micro-average\t prec: 0.41935483, rec: 0.23228112, f1: 0.2989651\n",
            "\n",
            "\n",
            "Epoch 3/10 started, lr: 9.90099E-4, dataset size: 15300\n",
            "\n",
            "\n",
            "Epoch 3/10 - 39.69s - loss: 2101.2598 - batches: 480\n",
            "Quality on test dataset: \n",
            "time to finish evaluation: 0.99s\n",
            "label\t tp\t fp\t fn\t prec\t rec\t f1\n",
            "B-LOC\t 44\t 89\t 57\t 0.33082706\t 0.43564355\t 0.37606835\n",
            "B-PROD\t 21\t 28\t 169\t 0.42857143\t 0.110526316\t 0.17573223\n",
            "B-CW\t 7\t 12\t 113\t 0.36842105\t 0.058333334\t 0.10071942\n",
            "I-GRP\t 131\t 115\t 95\t 0.53252035\t 0.579646\t 0.5550847\n",
            "B-CORP\t 34\t 66\t 93\t 0.34\t 0.26771653\t 0.29955944\n",
            "B-GRP\t 52\t 67\t 66\t 0.4369748\t 0.44067797\t 0.43881854\n",
            "I-CORP\t 49\t 105\t 73\t 0.3181818\t 0.40163934\t 0.35507247\n",
            "I-LOC\t 8\t 16\t 53\t 0.33333334\t 0.13114753\t 0.18823528\n",
            "I-PER\t 83\t 76\t 97\t 0.5220126\t 0.4611111\t 0.48967555\n",
            "I-PROD\t 14\t 15\t 115\t 0.4827586\t 0.10852713\t 0.17721519\n",
            "I-CW\t 17\t 17\t 144\t 0.5\t 0.10559006\t 0.17435898\n",
            "B-PER\t 74\t 63\t 70\t 0.540146\t 0.5138889\t 0.52669036\n",
            "tp: 534 fp: 669 fn: 1145 labels: 12\n",
            "Macro-average\t prec: 0.42781222, rec: 0.301204, f1: 0.35351408\n",
            "Micro-average\t prec: 0.44389027, rec: 0.31804645, f1: 0.370576\n",
            "\n",
            "\n",
            "Epoch 4/10 started, lr: 9.852217E-4, dataset size: 15300\n",
            "\n",
            "\n",
            "Epoch 4/10 - 38.92s - loss: 1815.7301 - batches: 480\n",
            "Quality on test dataset: \n",
            "time to finish evaluation: 0.93s\n",
            "label\t tp\t fp\t fn\t prec\t rec\t f1\n",
            "B-LOC\t 45\t 83\t 56\t 0.3515625\t 0.44554454\t 0.39301312\n",
            "B-PROD\t 32\t 45\t 158\t 0.41558442\t 0.16842106\t 0.23970038\n",
            "B-CW\t 9\t 9\t 111\t 0.5\t 0.075\t 0.1304348\n",
            "I-GRP\t 121\t 95\t 105\t 0.5601852\t 0.53539824\t 0.54751134\n",
            "B-CORP\t 33\t 34\t 94\t 0.49253732\t 0.25984251\t 0.3402062\n",
            "B-GRP\t 46\t 47\t 72\t 0.49462366\t 0.3898305\t 0.43601897\n",
            "I-CORP\t 43\t 62\t 79\t 0.40952381\t 0.352459\t 0.37885466\n",
            "I-LOC\t 6\t 17\t 55\t 0.26086956\t 0.09836066\t 0.14285715\n",
            "I-PER\t 122\t 169\t 58\t 0.419244\t 0.67777777\t 0.5180467\n",
            "I-PROD\t 24\t 30\t 105\t 0.44444445\t 0.18604651\t 0.2622951\n",
            "I-CW\t 14\t 14\t 147\t 0.5\t 0.08695652\t 0.14814815\n",
            "B-PER\t 97\t 139\t 47\t 0.41101694\t 0.6736111\t 0.5105263\n",
            "tp: 592 fp: 744 fn: 1087 labels: 12\n",
            "Macro-average\t prec: 0.43829933, rec: 0.32910404, f1: 0.37593287\n",
            "Micro-average\t prec: 0.44311377, rec: 0.35259083, f1: 0.39270315\n",
            "\n",
            "\n",
            "Epoch 5/10 started, lr: 9.803922E-4, dataset size: 15300\n",
            "\n",
            "\n",
            "Epoch 5/10 - 39.25s - loss: 1633.1874 - batches: 480\n",
            "Quality on test dataset: \n",
            "time to finish evaluation: 0.94s\n",
            "label\t tp\t fp\t fn\t prec\t rec\t f1\n",
            "B-LOC\t 46\t 62\t 55\t 0.42592594\t 0.45544556\t 0.4401914\n",
            "B-PROD\t 44\t 44\t 146\t 0.5\t 0.23157895\t 0.31654677\n",
            "B-CW\t 10\t 12\t 110\t 0.45454547\t 0.083333336\t 0.14084508\n",
            "I-GRP\t 92\t 45\t 134\t 0.67153287\t 0.40707964\t 0.506887\n",
            "B-CORP\t 55\t 129\t 72\t 0.29891303\t 0.43307087\t 0.35369775\n",
            "B-GRP\t 36\t 23\t 82\t 0.6101695\t 0.30508474\t 0.40677965\n",
            "I-CORP\t 73\t 214\t 49\t 0.2543554\t 0.59836066\t 0.3569682\n",
            "I-LOC\t 10\t 17\t 51\t 0.37037036\t 0.16393442\t 0.22727272\n",
            "I-PER\t 98\t 75\t 82\t 0.56647396\t 0.54444444\t 0.55524075\n",
            "I-PROD\t 28\t 28\t 101\t 0.5\t 0.21705426\t 0.3027027\n",
            "I-CW\t 21\t 19\t 140\t 0.525\t 0.13043478\t 0.20895523\n",
            "B-PER\t 85\t 64\t 59\t 0.5704698\t 0.5902778\t 0.58020484\n",
            "tp: 598 fp: 732 fn: 1081 labels: 12\n",
            "Macro-average\t prec: 0.4789797, rec: 0.34667495, f1: 0.40222695\n",
            "Micro-average\t prec: 0.44962406, rec: 0.3561644, f1: 0.39747426\n",
            "\n",
            "\n",
            "Epoch 6/10 started, lr: 9.756098E-4, dataset size: 15300\n",
            "\n",
            "\n",
            "Epoch 6/10 - 39.80s - loss: 1488.8185 - batches: 480\n",
            "Quality on test dataset: \n",
            "time to finish evaluation: 0.94s\n",
            "label\t tp\t fp\t fn\t prec\t rec\t f1\n",
            "B-LOC\t 43\t 43\t 58\t 0.5\t 0.42574257\t 0.45989305\n",
            "B-PROD\t 45\t 45\t 145\t 0.5\t 0.23684211\t 0.3214286\n",
            "B-CW\t 24\t 54\t 96\t 0.30769232\t 0.2\t 0.24242425\n",
            "I-GRP\t 138\t 114\t 88\t 0.54761904\t 0.6106195\t 0.57740587\n",
            "B-CORP\t 38\t 15\t 89\t 0.7169811\t 0.2992126\t 0.4222222\n",
            "B-GRP\t 55\t 57\t 63\t 0.49107143\t 0.4661017\t 0.47826087\n",
            "I-CORP\t 45\t 15\t 77\t 0.75\t 0.36885247\t 0.49450547\n",
            "I-LOC\t 6\t 10\t 55\t 0.375\t 0.09836066\t 0.15584415\n",
            "I-PER\t 130\t 90\t 50\t 0.59090906\t 0.7222222\t 0.6499999\n",
            "I-PROD\t 31\t 25\t 98\t 0.5535714\t 0.24031007\t 0.33513513\n",
            "I-CW\t 64\t 98\t 97\t 0.39506173\t 0.39751554\t 0.39628482\n",
            "B-PER\t 103\t 73\t 41\t 0.58522725\t 0.7152778\t 0.64375\n",
            "tp: 722 fp: 639 fn: 957 labels: 12\n",
            "Macro-average\t prec: 0.52609444, rec: 0.39842144, f1: 0.4534423\n",
            "Micro-average\t prec: 0.5304923, rec: 0.43001786, f1: 0.47500002\n",
            "\n",
            "\n",
            "Epoch 7/10 started, lr: 9.7087387E-4, dataset size: 15300\n",
            "\n",
            "\n",
            "Epoch 7/10 - 39.19s - loss: 1387.5706 - batches: 480\n",
            "Quality on test dataset: \n",
            "time to finish evaluation: 0.96s\n",
            "label\t tp\t fp\t fn\t prec\t rec\t f1\n",
            "B-LOC\t 40\t 39\t 61\t 0.5063291\t 0.3960396\t 0.44444445\n",
            "B-PROD\t 57\t 64\t 133\t 0.47107437\t 0.3\t 0.36655948\n",
            "B-CW\t 23\t 43\t 97\t 0.34848484\t 0.19166666\t 0.24731185\n",
            "I-GRP\t 122\t 66\t 104\t 0.64893615\t 0.539823\t 0.589372\n",
            "B-CORP\t 59\t 56\t 68\t 0.51304346\t 0.46456692\t 0.4876033\n",
            "B-GRP\t 52\t 36\t 66\t 0.59090906\t 0.44067797\t 0.5048543\n",
            "I-CORP\t 70\t 87\t 52\t 0.44585988\t 0.57377046\t 0.50179213\n",
            "I-LOC\t 6\t 7\t 55\t 0.46153846\t 0.09836066\t 0.16216217\n",
            "I-PER\t 131\t 79\t 49\t 0.6238095\t 0.7277778\t 0.67179483\n",
            "I-PROD\t 44\t 37\t 85\t 0.54320985\t 0.34108528\t 0.41904765\n",
            "I-CW\t 52\t 86\t 109\t 0.3768116\t 0.32298136\t 0.34782606\n",
            "B-PER\t 102\t 60\t 42\t 0.6296296\t 0.7083333\t 0.6666667\n",
            "tp: 758 fp: 660 fn: 921 labels: 12\n",
            "Macro-average\t prec: 0.513303, rec: 0.4254236, f1: 0.46524987\n",
            "Micro-average\t prec: 0.53455573, rec: 0.4514592, f1: 0.48950598\n",
            "\n",
            "\n",
            "Epoch 8/10 started, lr: 9.6618367E-4, dataset size: 15300\n",
            "\n",
            "\n",
            "Epoch 8/10 - 39.13s - loss: 1300.4823 - batches: 480\n",
            "Quality on test dataset: \n",
            "time to finish evaluation: 0.96s\n",
            "label\t tp\t fp\t fn\t prec\t rec\t f1\n",
            "B-LOC\t 46\t 34\t 55\t 0.575\t 0.45544556\t 0.5082873\n",
            "B-PROD\t 56\t 57\t 134\t 0.49557522\t 0.29473683\t 0.36963695\n",
            "B-CW\t 10\t 8\t 110\t 0.5555556\t 0.083333336\t 0.14492755\n",
            "I-GRP\t 149\t 116\t 77\t 0.56226414\t 0.65929204\t 0.60692465\n",
            "B-CORP\t 62\t 53\t 65\t 0.53913045\t 0.48818898\t 0.5123967\n",
            "B-GRP\t 56\t 59\t 62\t 0.4869565\t 0.47457626\t 0.48068666\n",
            "I-CORP\t 63\t 58\t 59\t 0.5206612\t 0.5163934\t 0.51851857\n",
            "I-LOC\t 12\t 12\t 49\t 0.5\t 0.19672132\t 0.28235295\n",
            "I-PER\t 140\t 108\t 40\t 0.5645161\t 0.7777778\t 0.65420556\n",
            "I-PROD\t 39\t 22\t 90\t 0.6393443\t 0.30232558\t 0.41052634\n",
            "I-CW\t 22\t 6\t 139\t 0.78571427\t 0.13664596\t 0.23280422\n",
            "B-PER\t 105\t 83\t 39\t 0.55851066\t 0.7291667\t 0.63253015\n",
            "tp: 760 fp: 616 fn: 919 labels: 12\n",
            "Macro-average\t prec: 0.56526905, rec: 0.42621696, f1: 0.48599225\n",
            "Micro-average\t prec: 0.5523256, rec: 0.4526504, f1: 0.497545\n",
            "\n",
            "\n",
            "Epoch 9/10 started, lr: 9.615385E-4, dataset size: 15300\n",
            "\n",
            "\n",
            "Epoch 9/10 - 38.96s - loss: 1246.414 - batches: 480\n",
            "Quality on test dataset: \n",
            "time to finish evaluation: 0.91s\n",
            "label\t tp\t fp\t fn\t prec\t rec\t f1\n",
            "B-LOC\t 55\t 62\t 46\t 0.47008547\t 0.5445545\t 0.5045871\n",
            "B-PROD\t 58\t 53\t 132\t 0.5225225\t 0.30526316\t 0.38538206\n",
            "B-CW\t 24\t 43\t 96\t 0.35820895\t 0.2\t 0.2566845\n",
            "I-GRP\t 134\t 104\t 92\t 0.56302524\t 0.59292036\t 0.5775863\n",
            "B-CORP\t 63\t 39\t 64\t 0.61764705\t 0.496063\t 0.55021834\n",
            "B-GRP\t 53\t 48\t 65\t 0.5247525\t 0.44915253\t 0.48401827\n",
            "I-CORP\t 70\t 44\t 52\t 0.61403507\t 0.57377046\t 0.5932203\n",
            "I-LOC\t 25\t 49\t 36\t 0.33783785\t 0.40983605\t 0.3703704\n",
            "I-PER\t 124\t 50\t 56\t 0.7126437\t 0.6888889\t 0.7005649\n",
            "I-PROD\t 39\t 19\t 90\t 0.67241377\t 0.30232558\t 0.41711232\n",
            "I-CW\t 45\t 59\t 116\t 0.43269232\t 0.2795031\t 0.33962265\n",
            "B-PER\t 101\t 43\t 43\t 0.7013889\t 0.7013889\t 0.7013889\n",
            "tp: 791 fp: 613 fn: 888 labels: 12\n",
            "Macro-average\t prec: 0.5439378, rec: 0.4619722, f1: 0.49961555\n",
            "Micro-average\t prec: 0.5633903, rec: 0.47111377, f1: 0.51313657\n",
            "\n",
            "\n",
            "Epoch 10/10 started, lr: 9.569379E-4, dataset size: 15300\n",
            "\n",
            "\n",
            "Epoch 10/10 - 39.31s - loss: 1188.4318 - batches: 480\n",
            "Quality on test dataset: \n",
            "time to finish evaluation: 0.89s\n",
            "label\t tp\t fp\t fn\t prec\t rec\t f1\n",
            "B-LOC\t 52\t 52\t 49\t 0.5\t 0.5148515\t 0.50731707\n",
            "B-PROD\t 69\t 75\t 121\t 0.47916666\t 0.3631579\t 0.41317365\n",
            "B-CW\t 19\t 34\t 101\t 0.35849056\t 0.15833333\t 0.21965317\n",
            "I-GRP\t 144\t 111\t 82\t 0.5647059\t 0.63716817\t 0.5987526\n",
            "B-CORP\t 68\t 42\t 59\t 0.6181818\t 0.53543305\t 0.57383966\n",
            "B-GRP\t 59\t 52\t 59\t 0.5315315\t 0.5\t 0.5152838\n",
            "I-CORP\t 72\t 46\t 50\t 0.6101695\t 0.59016395\t 0.6\n",
            "I-LOC\t 16\t 18\t 45\t 0.47058824\t 0.26229507\t 0.3368421\n",
            "I-PER\t 123\t 58\t 57\t 0.67955804\t 0.68333334\t 0.6814404\n",
            "I-PROD\t 51\t 34\t 78\t 0.6\t 0.39534885\t 0.47663555\n",
            "I-CW\t 40\t 56\t 121\t 0.41666666\t 0.24844721\t 0.31128407\n",
            "B-PER\t 102\t 54\t 42\t 0.65384614\t 0.7083333\t 0.67999995\n",
            "tp: 815 fp: 632 fn: 864 labels: 12\n",
            "Macro-average\t prec: 0.5402421, rec: 0.4664055, f1: 0.50061584\n",
            "Micro-average\t prec: 0.56323427, rec: 0.48540798, f1: 0.5214331\n"
          ]
        }
      ]
    },
    {
      "cell_type": "code",
      "source": [
        "ner_model.stages[1].write().overwrite().save('./NER_bert_20200219')"
      ],
      "metadata": {
        "id": "GZN_GbfwsqJc"
      },
      "execution_count": 18,
      "outputs": []
    },
    {
      "cell_type": "code",
      "source": [
        "test_data.show()"
      ],
      "metadata": {
        "id": "hvXSFfSWsqHA",
        "outputId": "6cbd5809-9bd3-4b7c-c934-53f2928494f1",
        "colab": {
          "base_uri": "https://localhost:8080/"
        }
      },
      "execution_count": 19,
      "outputs": [
        {
          "output_type": "stream",
          "name": "stdout",
          "text": [
            "+--------------------+--------------------+--------------------+--------------------+--------------------+--------------------+--------------------+\n",
            "|                text|            document|            sentence|               token|                 pos|               label|                bert|\n",
            "+--------------------+--------------------+--------------------+--------------------+--------------------+--------------------+--------------------+\n",
            "|সমস্ত বেতন নিলামে...|[[document, 0, 10...|[[document, 0, 10...|[[token, 0, 4, সম...|[[pos, 0, 4, _, [...|[[named_entity, 0...|[[word_embeddings...|\n",
            "|সংস্করণ ৩ প্রকাশে...|[[document, 0, 16...|[[document, 0, 16...|[[token, 0, 6, সং...|[[pos, 0, 6, _, [...|[[named_entity, 0...|[[word_embeddings...|\n",
            "|একটি পাইলট (হাটন ...|[[document, 0, 11...|[[document, 0, 11...|[[token, 0, 3, এক...|[[pos, 0, 3, _, [...|[[named_entity, 0...|[[word_embeddings...|\n",
            "|প্রাইমাভেরা ঝুঁকি...|[[document, 0, 64...|[[document, 0, 64...|[[token, 0, 10, প...|[[pos, 0, 10, _, ...|[[named_entity, 0...|[[word_embeddings...|\n",
            "|১৮০০ -এর দশকে ম্য...|[[document, 0, 13...|[[document, 0, 13...|[[token, 0, 3, ১৮...|[[pos, 0, 3, _, [...|[[named_entity, 0...|[[word_embeddings...|\n",
            "|চারজন বিজয়ী ডিফে...|[[document, 0, 77...|[[document, 0, 77...|[[token, 0, 4, চা...|[[pos, 0, 4, _, [...|[[named_entity, 0...|[[word_embeddings...|\n",
            "|এটি ছিল নাটকীয় ব...|[[document, 0, 70...|[[document, 0, 70...|[[token, 0, 2, এট...|[[pos, 0, 2, _, [...|[[named_entity, 0...|[[word_embeddings...|\n",
            "|এর মধ্যে একটি রিয...|[[document, 0, 43...|[[document, 0, 43...|[[token, 0, 1, এর...|[[pos, 0, 1, _, [...|[[named_entity, 0...|[[word_embeddings...|\n",
            "|এরলং সুযোগ সমাধান...|[[document, 0, 45...|[[document, 0, 45...|[[token, 0, 3, এর...|[[pos, 0, 3, _, [...|[[named_entity, 0...|[[word_embeddings...|\n",
            "|যদিও গির্জার সবসম...|[[document, 0, 82...|[[document, 0, 82...|[[token, 0, 3, যদ...|[[pos, 0, 3, _, [...|[[named_entity, 0...|[[word_embeddings...|\n",
            "|দ্য ম্যাগনিফিসেন্...|[[document, 0, 64...|[[document, 0, 64...|[[token, 0, 2, দ্...|[[pos, 0, 2, _, [...|[[named_entity, 0...|[[word_embeddings...|\n",
            "|দীর্ঘ সময় ধরে আর...|[[document, 0, 92...|[[document, 0, 92...|[[token, 0, 4, দী...|[[pos, 0, 4, _, [...|[[named_entity, 0...|[[word_embeddings...|\n",
            "|তা সত্ত্বেও, এটা ...|[[document, 0, 12...|[[document, 0, 12...|[[token, 0, 1, তা...|[[pos, 0, 1, _, [...|[[named_entity, 0...|[[word_embeddings...|\n",
            "|এগুলি জানালা অন্ধ...|[[document, 0, 32...|[[document, 0, 32...|[[token, 0, 4, এগ...|[[pos, 0, 4, _, [...|[[named_entity, 0...|[[word_embeddings...|\n",
            "|২০০৪ সালে, তিনি ত...|[[document, 0, 61...|[[document, 0, 61...|[[token, 0, 3, ২০...|[[pos, 0, 3, _, [...|[[named_entity, 0...|[[word_embeddings...|\n",
            "|কোহলের (একই পার্ক...|[[document, 0, 49...|[[document, 0, 49...|[[token, 0, 5, কো...|[[pos, 0, 5, _, [...|[[named_entity, 0...|[[word_embeddings...|\n",
            "|ইসরাইল সেই বছরের ...|[[document, 0, 65...|[[document, 0, 65...|[[token, 0, 5, ইস...|[[pos, 0, 5, _, [...|[[named_entity, 0...|[[word_embeddings...|\n",
            "|১৯৫৭ সালে, নাট্যক...|[[document, 0, 53...|[[document, 0, 53...|[[token, 0, 3, ১৯...|[[pos, 0, 3, _, [...|[[named_entity, 0...|[[word_embeddings...|\n",
            "|কিছু পৌরাণিক কাহি...|[[document, 0, 10...|[[document, 0, 10...|[[token, 0, 3, কি...|[[pos, 0, 3, _, [...|[[named_entity, 0...|[[word_embeddings...|\n",
            "|৩৫১০ এর ক্লাসিক ন...|[[document, 0, 63...|[[document, 0, 63...|[[token, 0, 3, ৩৫...|[[pos, 0, 3, _, [...|[[named_entity, 0...|[[word_embeddings...|\n",
            "+--------------------+--------------------+--------------------+--------------------+--------------------+--------------------+--------------------+\n",
            "only showing top 20 rows\n",
            "\n"
          ]
        }
      ]
    },
    {
      "cell_type": "code",
      "source": [
        "# let's only feed sentence and token from our test dataset\n",
        "predictions = ner_model.transform(test_data.select(\"sentence\", \"token\", \"label\"))\n",
        "predictions.show(3)"
      ],
      "metadata": {
        "id": "vDuRR5MQsqEa",
        "outputId": "b8d55e73-ed9b-44ba-9c1d-cd9421cc5e39",
        "colab": {
          "base_uri": "https://localhost:8080/"
        }
      },
      "execution_count": 20,
      "outputs": [
        {
          "output_type": "stream",
          "name": "stdout",
          "text": [
            "+--------------------+--------------------+--------------------+--------------------+--------------------+\n",
            "|            sentence|               token|               label|                bert|                 ner|\n",
            "+--------------------+--------------------+--------------------+--------------------+--------------------+\n",
            "|[[document, 0, 10...|[[token, 0, 4, সম...|[[named_entity, 0...|[[word_embeddings...|[[named_entity, 0...|\n",
            "|[[document, 0, 16...|[[token, 0, 6, সং...|[[named_entity, 0...|[[word_embeddings...|[[named_entity, 0...|\n",
            "|[[document, 0, 11...|[[token, 0, 3, এক...|[[named_entity, 0...|[[word_embeddings...|[[named_entity, 0...|\n",
            "+--------------------+--------------------+--------------------+--------------------+--------------------+\n",
            "only showing top 3 rows\n",
            "\n"
          ]
        }
      ]
    },
    {
      "cell_type": "code",
      "source": [
        "predictions.select('token.result','label.result','ner.result').show(truncate=40)"
      ],
      "metadata": {
        "id": "EJN6cPohsqBo",
        "outputId": "eba24583-4c2d-41db-8e98-f9f18d836e24",
        "colab": {
          "base_uri": "https://localhost:8080/"
        }
      },
      "execution_count": 21,
      "outputs": [
        {
          "output_type": "stream",
          "name": "stdout",
          "text": [
            "+----------------------------------------+----------------------------------------+----------------------------------------+\n",
            "|                                  result|                                  result|                                  result|\n",
            "+----------------------------------------+----------------------------------------+----------------------------------------+\n",
            "|[সমস্ত, বেতন, নিলামের, সাধারণ, ব্যবহা...|[O, O, O, O, O, O, O, O, O, O, B-CORP...|[O, O, O, O, O, O, O, O, O, O, O, O, ...|\n",
            "|[সংস্করণ, ৩, প্রকাশের, আগে,, গ্রাফিক্...|[O, O, O, O, B-CW, I-CW, I-CW, O, O, ...|[O, O, O, O, B-GRP, I-GRP, I-GRP, I-G...|\n",
            "|[একটি, পাইলট, (হাটন, দ্বারা, চিত্রিত)...|[O, O, O, O, O, B-LOC, I-LOC, O, O, O...|[O, O, O, O, O, B-PROD, I-PROD, O, O,...|\n",
            "|[প্রাইমাভেরা, ঝুঁকি, বিশ্লেষণ, -, প্র...|          [B-CW, O, O, O, O, O, O, O, O]|             [O, O, O, O, O, O, O, O, O]|\n",
            "|[১৮০০, -এর, দশকে, ম্যাটভে, কাজাকভ, দ্...|[O, O, O, B-PER, I-PER, O, O, O, O, O...|[O, O, O, B-PER, I-PER, O, O, O, O, O...|\n",
            "|[চারজন, বিজয়ী, ডিফেন্ডিং, চ্যাম্পিয়...|[O, O, O, O, B-PER, I-PER, O, O, O, O...|[O, O, O, O, B-PER, I-PER, O, O, O, O...|\n",
            "|[এটি, ছিল, নাটকীয়, বিতরণের, জন্য, কা...|  [O, O, O, O, O, B-GRP, I-GRP, O, O, O]|          [O, O, O, O, O, O, O, O, O, O]|\n",
            "|[এর, মধ্যে, একটি, রিয়েল, কানাডিয়ান,...|    [O, O, O, B-CORP, I-CORP, I-CORP, O]|       [O, O, O, B-LOC, I-LOC, I-LOC, O]|\n",
            "|[এরলং, সুযোগ, সমাধানের, জন্য, একক, কো...|             [B-CW, O, O, O, O, O, O, O]|                [O, O, O, O, O, O, O, O]|\n",
            "|[যদিও, গির্জার, সবসময়, রাজকীয়, পিউ,...|[O, O, O, O, B-PROD, O, O, O, O, O, O...| [O, O, O, O, O, O, O, O, O, O, O, O, O]|\n",
            "|[দ্য, ম্যাগনিফিসেন্ট, অ্যাম্বারসনস, (...|          [B-CW, I-CW, I-CW, O, O, O, O]|          [B-CW, I-CW, I-CW, O, O, O, O]|\n",
            "|[দীর্ঘ, সময়, ধরে, আর্দ্রতার, সংস্পর্...|[O, O, O, O, O, O, B-PROD, O, O, O, O...|[O, O, O, O, O, O, B-PROD, O, O, O, O...|\n",
            "|[তা, সত্ত্বেও,, এটা, স্পষ্ট, ছিল, যে,...|[O, O, O, O, O, O, B-CORP, O, O, O, O...|[O, O, O, O, O, O, B-PROD, O, O, O, O...|\n",
            "|[এগুলি, জানালা, অন্ধ, এও, ব্যবহৃত, হয়।]|            [O, B-PROD, I-PROD, O, O, O]|              [O, B-LOC, I-LOC, O, O, O]|\n",
            "|[২০০৪, সালে,, তিনি, তেলাসি, কোম্পানিত...|        [O, O, O, B-CORP, O, O, O, O, O]|        [O, O, O, B-CORP, O, O, O, O, O]|\n",
            "|[কোহলের, (একই, পার্কিং, লটে, মলের, কা...|           [B-CORP, O, O, O, O, O, O, O]|             [B-CW, O, O, O, O, O, O, O]|\n",
            "|[ইসরাইল, সেই, বছরের, জন্য, রানার, আপ,...| [O, O, O, O, O, O, O, O, O, B-CW, O, O]|[O, O, O, O, O, O, O, O, O, B-LOC, O, O]|\n",
            "|[১৯৫৭, সালে,, নাট্যকার, জন, অসবোর্ন, ...|     [O, O, O, B-PER, I-PER, O, O, O, O]|     [O, O, O, B-PER, I-PER, O, O, O, O]|\n",
            "|[কিছু, পৌরাণিক, কাহিনী, কবি, অ্যান, ক...|[O, O, O, O, B-PER, I-PER, O, O, O, O...|[O, O, B-CW, I-CW, I-CW, I-CW, O, O, ...|\n",
            "|[৩৫১০, এর, ক্লাসিক, নোকিয়া, ২১১০, এর...|[O, O, O, B-PROD, I-PROD, O, O, O, O,...|[O, O, O, B-PROD, I-PROD, O, O, O, O,...|\n",
            "+----------------------------------------+----------------------------------------+----------------------------------------+\n",
            "only showing top 20 rows\n",
            "\n"
          ]
        }
      ]
    },
    {
      "cell_type": "code",
      "source": [
        "predictions.printSchema()"
      ],
      "metadata": {
        "id": "R0oVMXI9sp-6",
        "outputId": "32e89f71-c02d-4981-df89-fb8d4077d843",
        "colab": {
          "base_uri": "https://localhost:8080/"
        }
      },
      "execution_count": 22,
      "outputs": [
        {
          "output_type": "stream",
          "name": "stdout",
          "text": [
            "root\n",
            " |-- sentence: array (nullable = false)\n",
            " |    |-- element: struct (containsNull = true)\n",
            " |    |    |-- annotatorType: string (nullable = true)\n",
            " |    |    |-- begin: integer (nullable = false)\n",
            " |    |    |-- end: integer (nullable = false)\n",
            " |    |    |-- result: string (nullable = true)\n",
            " |    |    |-- metadata: map (nullable = true)\n",
            " |    |    |    |-- key: string\n",
            " |    |    |    |-- value: string (valueContainsNull = true)\n",
            " |    |    |-- embeddings: array (nullable = true)\n",
            " |    |    |    |-- element: float (containsNull = false)\n",
            " |-- token: array (nullable = false)\n",
            " |    |-- element: struct (containsNull = true)\n",
            " |    |    |-- annotatorType: string (nullable = true)\n",
            " |    |    |-- begin: integer (nullable = false)\n",
            " |    |    |-- end: integer (nullable = false)\n",
            " |    |    |-- result: string (nullable = true)\n",
            " |    |    |-- metadata: map (nullable = true)\n",
            " |    |    |    |-- key: string\n",
            " |    |    |    |-- value: string (valueContainsNull = true)\n",
            " |    |    |-- embeddings: array (nullable = true)\n",
            " |    |    |    |-- element: float (containsNull = false)\n",
            " |-- label: array (nullable = false)\n",
            " |    |-- element: struct (containsNull = true)\n",
            " |    |    |-- annotatorType: string (nullable = true)\n",
            " |    |    |-- begin: integer (nullable = false)\n",
            " |    |    |-- end: integer (nullable = false)\n",
            " |    |    |-- result: string (nullable = true)\n",
            " |    |    |-- metadata: map (nullable = true)\n",
            " |    |    |    |-- key: string\n",
            " |    |    |    |-- value: string (valueContainsNull = true)\n",
            " |    |    |-- embeddings: array (nullable = true)\n",
            " |    |    |    |-- element: float (containsNull = false)\n",
            " |-- bert: array (nullable = true)\n",
            " |    |-- element: struct (containsNull = true)\n",
            " |    |    |-- annotatorType: string (nullable = true)\n",
            " |    |    |-- begin: integer (nullable = false)\n",
            " |    |    |-- end: integer (nullable = false)\n",
            " |    |    |-- result: string (nullable = true)\n",
            " |    |    |-- metadata: map (nullable = true)\n",
            " |    |    |    |-- key: string\n",
            " |    |    |    |-- value: string (valueContainsNull = true)\n",
            " |    |    |-- embeddings: array (nullable = true)\n",
            " |    |    |    |-- element: float (containsNull = false)\n",
            " |-- ner: array (nullable = true)\n",
            " |    |-- element: struct (containsNull = true)\n",
            " |    |    |-- annotatorType: string (nullable = true)\n",
            " |    |    |-- begin: integer (nullable = false)\n",
            " |    |    |-- end: integer (nullable = false)\n",
            " |    |    |-- result: string (nullable = true)\n",
            " |    |    |-- metadata: map (nullable = true)\n",
            " |    |    |    |-- key: string\n",
            " |    |    |    |-- value: string (valueContainsNull = true)\n",
            " |    |    |-- embeddings: array (nullable = true)\n",
            " |    |    |    |-- element: float (containsNull = false)\n",
            "\n"
          ]
        }
      ]
    },
    {
      "cell_type": "code",
      "source": [
        "import pyspark.sql.functions as F\n",
        "\n",
        "predictions.select(F.explode(F.arrays_zip('token.result','label.result','ner.result')).alias(\"cols\")) \\\n",
        ".select(F.expr(\"cols['0']\").alias(\"token\"),\n",
        "        F.expr(\"cols['1']\").alias(\"ground_truth\"),\n",
        "        F.expr(\"cols['2']\").alias(\"prediction\")).show(truncate=False)"
      ],
      "metadata": {
        "id": "XQwyUFbrsp7-",
        "outputId": "b660b5ac-5bfa-4100-8029-13cb67f62725",
        "colab": {
          "base_uri": "https://localhost:8080/"
        }
      },
      "execution_count": 23,
      "outputs": [
        {
          "output_type": "stream",
          "name": "stdout",
          "text": [
            "+----------+------------+----------+\n",
            "|token     |ground_truth|prediction|\n",
            "+----------+------------+----------+\n",
            "|সমস্ত     |O           |O         |\n",
            "|বেতন      |O           |O         |\n",
            "|নিলামের   |O           |O         |\n",
            "|সাধারণ    |O           |O         |\n",
            "|ব্যবহারিক |O           |O         |\n",
            "|উদাহরণ    |O           |O         |\n",
            "|বিভিন্ন   |O           |O         |\n",
            "|পেনি      |O           |O         |\n",
            "|নিলাম     |O           |O         |\n",
            "|/         |O           |O         |\n",
            "|বিডিং     |B-CORP      |O         |\n",
            "|ফি        |I-CORP      |O         |\n",
            "|নিলাম     |I-CORP      |O         |\n",
            "|ওয়েবসাইটে|O           |O         |\n",
            "|পাওয়া    |O           |O         |\n",
            "|যাবে।     |O           |O         |\n",
            "|সংস্করণ   |O           |O         |\n",
            "|৩         |O           |O         |\n",
            "|প্রকাশের  |O           |O         |\n",
            "|আগে,      |O           |O         |\n",
            "+----------+------------+----------+\n",
            "only showing top 20 rows\n",
            "\n"
          ]
        }
      ]
    },
    {
      "cell_type": "code",
      "source": [
        "import pandas as pd\n",
        "\n",
        "df = predictions.select('token.result','label.result','ner.result').toPandas()\n",
        "\n",
        "df"
      ],
      "metadata": {
        "id": "ZVEJ5KcHsp4t",
        "outputId": "c0ab4dba-3096-4c45-babf-aae56c0b925f",
        "colab": {
          "base_uri": "https://localhost:8080/",
          "height": 424
        }
      },
      "execution_count": 24,
      "outputs": [
        {
          "output_type": "execute_result",
          "data": {
            "text/html": [
              "\n",
              "  <div id=\"df-c2d60a72-6f70-4509-a849-7f31967c21fe\">\n",
              "    <div class=\"colab-df-container\">\n",
              "      <div>\n",
              "<style scoped>\n",
              "    .dataframe tbody tr th:only-of-type {\n",
              "        vertical-align: middle;\n",
              "    }\n",
              "\n",
              "    .dataframe tbody tr th {\n",
              "        vertical-align: top;\n",
              "    }\n",
              "\n",
              "    .dataframe thead th {\n",
              "        text-align: right;\n",
              "    }\n",
              "</style>\n",
              "<table border=\"1\" class=\"dataframe\">\n",
              "  <thead>\n",
              "    <tr style=\"text-align: right;\">\n",
              "      <th></th>\n",
              "      <th>result</th>\n",
              "      <th>result</th>\n",
              "      <th>result</th>\n",
              "    </tr>\n",
              "  </thead>\n",
              "  <tbody>\n",
              "    <tr>\n",
              "      <th>0</th>\n",
              "      <td>[সমস্ত, বেতন, নিলামের, সাধারণ, ব্যবহারিক, উদাহ...</td>\n",
              "      <td>[O, O, O, O, O, O, O, O, O, O, B-CORP, I-CORP,...</td>\n",
              "      <td>[O, O, O, O, O, O, O, O, O, O, O, O, O, O, O, O]</td>\n",
              "    </tr>\n",
              "    <tr>\n",
              "      <th>1</th>\n",
              "      <td>[সংস্করণ, ৩, প্রকাশের, আগে,, গ্রাফিক্যাল, ইউজা...</td>\n",
              "      <td>[O, O, O, O, B-CW, I-CW, I-CW, O, O, O, O, O, ...</td>\n",
              "      <td>[O, O, O, O, B-GRP, I-GRP, I-GRP, I-GRP, I-GRP...</td>\n",
              "    </tr>\n",
              "    <tr>\n",
              "      <th>2</th>\n",
              "      <td>[একটি, পাইলট, (হাটন, দ্বারা, চিত্রিত), লস, অ্য...</td>\n",
              "      <td>[O, O, O, O, O, B-LOC, I-LOC, O, O, O, O, O, O...</td>\n",
              "      <td>[O, O, O, O, O, B-PROD, I-PROD, O, O, O, O, O,...</td>\n",
              "    </tr>\n",
              "    <tr>\n",
              "      <th>3</th>\n",
              "      <td>[প্রাইমাভেরা, ঝুঁকি, বিশ্লেষণ, -, প্রকল্প, ঝুঁ...</td>\n",
              "      <td>[B-CW, O, O, O, O, O, O, O, O]</td>\n",
              "      <td>[O, O, O, O, O, O, O, O, O]</td>\n",
              "    </tr>\n",
              "    <tr>\n",
              "      <th>4</th>\n",
              "      <td>[১৮০০, -এর, দশকে, ম্যাটভে, কাজাকভ, দ্বারা, ডিজ...</td>\n",
              "      <td>[O, O, O, B-PER, I-PER, O, O, O, O, O, O, O, O...</td>\n",
              "      <td>[O, O, O, B-PER, I-PER, O, O, O, O, O, O, O, O...</td>\n",
              "    </tr>\n",
              "    <tr>\n",
              "      <th>...</th>\n",
              "      <td>...</td>\n",
              "      <td>...</td>\n",
              "      <td>...</td>\n",
              "    </tr>\n",
              "    <tr>\n",
              "      <th>795</th>\n",
              "      <td>[বাসাটি, পাতালরেল, এ, স্টেশন, হিসেবে, ব্যবহৃত,...</td>\n",
              "      <td>[O, B-GRP, O, O, O, O, O]</td>\n",
              "      <td>[O, B-LOC, O, O, O, O, O]</td>\n",
              "    </tr>\n",
              "    <tr>\n",
              "      <th>796</th>\n",
              "      <td>[১৯৮৫, সালে, বন্ধ, হওয়ার, আগে,, ডিপোতে, ব্রিট...</td>\n",
              "      <td>[O, O, O, O, O, O, B-PROD, I-PROD, I-PROD, I-P...</td>\n",
              "      <td>[O, O, O, O, O, B-GRP, I-GRP, I-GRP, I-GRP, O,...</td>\n",
              "    </tr>\n",
              "    <tr>\n",
              "      <th>797</th>\n",
              "      <td>[প্রথম, মৌসুমটি, সমালোচকদের, কাছ, থেকে, সাধারন...</td>\n",
              "      <td>[O, O, O, O, O, O, O, O, O, O, O, O, O, O, O, ...</td>\n",
              "      <td>[O, O, O, O, O, O, O, O, O, O, O, O, O, O, O, ...</td>\n",
              "    </tr>\n",
              "    <tr>\n",
              "      <th>798</th>\n",
              "      <td>[বিক্রয়, সাধারণত, প্রথম, প্যানেলিস্টের, পরিচয...</td>\n",
              "      <td>[O, O, O, O, O, O, O, O, O, O, O, O, O, O, O, ...</td>\n",
              "      <td>[O, O, O, O, O, O, O, O, O, O, O, O, O, O, O, ...</td>\n",
              "    </tr>\n",
              "    <tr>\n",
              "      <th>799</th>\n",
              "      <td>[এটি, উইলি-ভিসিএইচ, দ্বারা, প্রকাশিত, এবং, পর্...</td>\n",
              "      <td>[O, B-CORP, O, O, O, O, O, O, O, O, O, O]</td>\n",
              "      <td>[O, B-CORP, O, O, O, O, O, O, O, O, O, O]</td>\n",
              "    </tr>\n",
              "  </tbody>\n",
              "</table>\n",
              "<p>800 rows × 3 columns</p>\n",
              "</div>\n",
              "      <button class=\"colab-df-convert\" onclick=\"convertToInteractive('df-c2d60a72-6f70-4509-a849-7f31967c21fe')\"\n",
              "              title=\"Convert this dataframe to an interactive table.\"\n",
              "              style=\"display:none;\">\n",
              "        \n",
              "  <svg xmlns=\"http://www.w3.org/2000/svg\" height=\"24px\"viewBox=\"0 0 24 24\"\n",
              "       width=\"24px\">\n",
              "    <path d=\"M0 0h24v24H0V0z\" fill=\"none\"/>\n",
              "    <path d=\"M18.56 5.44l.94 2.06.94-2.06 2.06-.94-2.06-.94-.94-2.06-.94 2.06-2.06.94zm-11 1L8.5 8.5l.94-2.06 2.06-.94-2.06-.94L8.5 2.5l-.94 2.06-2.06.94zm10 10l.94 2.06.94-2.06 2.06-.94-2.06-.94-.94-2.06-.94 2.06-2.06.94z\"/><path d=\"M17.41 7.96l-1.37-1.37c-.4-.4-.92-.59-1.43-.59-.52 0-1.04.2-1.43.59L10.3 9.45l-7.72 7.72c-.78.78-.78 2.05 0 2.83L4 21.41c.39.39.9.59 1.41.59.51 0 1.02-.2 1.41-.59l7.78-7.78 2.81-2.81c.8-.78.8-2.07 0-2.86zM5.41 20L4 18.59l7.72-7.72 1.47 1.35L5.41 20z\"/>\n",
              "  </svg>\n",
              "      </button>\n",
              "      \n",
              "  <style>\n",
              "    .colab-df-container {\n",
              "      display:flex;\n",
              "      flex-wrap:wrap;\n",
              "      gap: 12px;\n",
              "    }\n",
              "\n",
              "    .colab-df-convert {\n",
              "      background-color: #E8F0FE;\n",
              "      border: none;\n",
              "      border-radius: 50%;\n",
              "      cursor: pointer;\n",
              "      display: none;\n",
              "      fill: #1967D2;\n",
              "      height: 32px;\n",
              "      padding: 0 0 0 0;\n",
              "      width: 32px;\n",
              "    }\n",
              "\n",
              "    .colab-df-convert:hover {\n",
              "      background-color: #E2EBFA;\n",
              "      box-shadow: 0px 1px 2px rgba(60, 64, 67, 0.3), 0px 1px 3px 1px rgba(60, 64, 67, 0.15);\n",
              "      fill: #174EA6;\n",
              "    }\n",
              "\n",
              "    [theme=dark] .colab-df-convert {\n",
              "      background-color: #3B4455;\n",
              "      fill: #D2E3FC;\n",
              "    }\n",
              "\n",
              "    [theme=dark] .colab-df-convert:hover {\n",
              "      background-color: #434B5C;\n",
              "      box-shadow: 0px 1px 3px 1px rgba(0, 0, 0, 0.15);\n",
              "      filter: drop-shadow(0px 1px 2px rgba(0, 0, 0, 0.3));\n",
              "      fill: #FFFFFF;\n",
              "    }\n",
              "  </style>\n",
              "\n",
              "      <script>\n",
              "        const buttonEl =\n",
              "          document.querySelector('#df-c2d60a72-6f70-4509-a849-7f31967c21fe button.colab-df-convert');\n",
              "        buttonEl.style.display =\n",
              "          google.colab.kernel.accessAllowed ? 'block' : 'none';\n",
              "\n",
              "        async function convertToInteractive(key) {\n",
              "          const element = document.querySelector('#df-c2d60a72-6f70-4509-a849-7f31967c21fe');\n",
              "          const dataTable =\n",
              "            await google.colab.kernel.invokeFunction('convertToInteractive',\n",
              "                                                     [key], {});\n",
              "          if (!dataTable) return;\n",
              "\n",
              "          const docLinkHtml = 'Like what you see? Visit the ' +\n",
              "            '<a target=\"_blank\" href=https://colab.research.google.com/notebooks/data_table.ipynb>data table notebook</a>'\n",
              "            + ' to learn more about interactive tables.';\n",
              "          element.innerHTML = '';\n",
              "          dataTable['output_type'] = 'display_data';\n",
              "          await google.colab.output.renderOutput(dataTable, element);\n",
              "          const docLink = document.createElement('div');\n",
              "          docLink.innerHTML = docLinkHtml;\n",
              "          element.appendChild(docLink);\n",
              "        }\n",
              "      </script>\n",
              "    </div>\n",
              "  </div>\n",
              "  "
            ],
            "text/plain": [
              "                                                result  ...                                             result\n",
              "0    [সমস্ত, বেতন, নিলামের, সাধারণ, ব্যবহারিক, উদাহ...  ...   [O, O, O, O, O, O, O, O, O, O, O, O, O, O, O, O]\n",
              "1    [সংস্করণ, ৩, প্রকাশের, আগে,, গ্রাফিক্যাল, ইউজা...  ...  [O, O, O, O, B-GRP, I-GRP, I-GRP, I-GRP, I-GRP...\n",
              "2    [একটি, পাইলট, (হাটন, দ্বারা, চিত্রিত), লস, অ্য...  ...  [O, O, O, O, O, B-PROD, I-PROD, O, O, O, O, O,...\n",
              "3    [প্রাইমাভেরা, ঝুঁকি, বিশ্লেষণ, -, প্রকল্প, ঝুঁ...  ...                        [O, O, O, O, O, O, O, O, O]\n",
              "4    [১৮০০, -এর, দশকে, ম্যাটভে, কাজাকভ, দ্বারা, ডিজ...  ...  [O, O, O, B-PER, I-PER, O, O, O, O, O, O, O, O...\n",
              "..                                                 ...  ...                                                ...\n",
              "795  [বাসাটি, পাতালরেল, এ, স্টেশন, হিসেবে, ব্যবহৃত,...  ...                          [O, B-LOC, O, O, O, O, O]\n",
              "796  [১৯৮৫, সালে, বন্ধ, হওয়ার, আগে,, ডিপোতে, ব্রিট...  ...  [O, O, O, O, O, B-GRP, I-GRP, I-GRP, I-GRP, O,...\n",
              "797  [প্রথম, মৌসুমটি, সমালোচকদের, কাছ, থেকে, সাধারন...  ...  [O, O, O, O, O, O, O, O, O, O, O, O, O, O, O, ...\n",
              "798  [বিক্রয়, সাধারণত, প্রথম, প্যানেলিস্টের, পরিচয...  ...  [O, O, O, O, O, O, O, O, O, O, O, O, O, O, O, ...\n",
              "799  [এটি, উইলি-ভিসিএইচ, দ্বারা, প্রকাশিত, এবং, পর্...  ...          [O, B-CORP, O, O, O, O, O, O, O, O, O, O]\n",
              "\n",
              "[800 rows x 3 columns]"
            ]
          },
          "metadata": {},
          "execution_count": 24
        }
      ]
    },
    {
      "cell_type": "code",
      "source": [
        "from pyspark.ml import Pipeline\n",
        "\n",
        "document = DocumentAssembler()\\\n",
        "    .setInputCol(\"text\")\\\n",
        "    .setOutputCol(\"document\")\n",
        "\n",
        "sentence = SentenceDetector()\\\n",
        "    .setInputCols(['document'])\\\n",
        "    .setOutputCol('sentence')\n",
        "\n",
        "token = Tokenizer()\\\n",
        "    .setInputCols(['sentence'])\\\n",
        "    .setOutputCol('token')\n",
        "\n",
        "bert = BertEmbeddings.pretrained('small_bert_L2_128', 'en') \\\n",
        " .setInputCols([\"sentence\",'token'])\\\n",
        " .setOutputCol(\"bert\")\\\n",
        " .setCaseSensitive(True)\n",
        "\n",
        "loaded_ner_model = NerDLModel.load(\"NER_bert_20200219\")\\\n",
        " .setInputCols([\"sentence\", \"token\", \"bert\"])\\\n",
        " .setOutputCol(\"ner\")\n",
        "\n",
        "converter = NerConverter()\\\n",
        "  .setInputCols([\"document\", \"token\", \"ner\"])\\\n",
        "  .setOutputCol(\"ner_span\")\n",
        "\n",
        "ner_prediction_pipeline = Pipeline(\n",
        "    stages = [\n",
        "        document,\n",
        "        sentence,\n",
        "        token,\n",
        "        bert,\n",
        "        loaded_ner_model,\n",
        "        converter])"
      ],
      "metadata": {
        "id": "4UYFVzaYwxaP",
        "outputId": "50b2cfb3-c2a7-48cf-804e-8b77aa2f03a6",
        "colab": {
          "base_uri": "https://localhost:8080/"
        }
      },
      "execution_count": 25,
      "outputs": [
        {
          "output_type": "stream",
          "name": "stdout",
          "text": [
            "small_bert_L2_128 download started this may take some time.\n",
            "Approximate size to download 16.1 MB\n",
            "[OK!]\n"
          ]
        }
      ]
    },
    {
      "cell_type": "code",
      "source": [
        "empty_data = spark.createDataFrame([['']]).toDF(\"text\")\n",
        "empty_data.show()"
      ],
      "metadata": {
        "id": "xaSfme-jwxV_",
        "outputId": "e5f2233b-cb07-4773-cf9a-52aadc2cb2bf",
        "colab": {
          "base_uri": "https://localhost:8080/"
        }
      },
      "execution_count": 39,
      "outputs": [
        {
          "output_type": "stream",
          "name": "stdout",
          "text": [
            "+----+\n",
            "|text|\n",
            "+----+\n",
            "|    |\n",
            "+----+\n",
            "\n"
          ]
        }
      ]
    },
    {
      "cell_type": "code",
      "source": [
        "prediction_model = ner_prediction_pipeline.fit(empty_data)"
      ],
      "metadata": {
        "id": "640LQ5SsxBml"
      },
      "execution_count": 40,
      "outputs": []
    },
    {
      "cell_type": "code",
      "source": [
        "text = \"Peter Parker is a nice guy and lives in New York.\"\n",
        "sample_data = spark.createDataFrame([[text]]).toDF(\"text\")\n",
        "sample_data.show()"
      ],
      "metadata": {
        "id": "y1rlw5amxBiO",
        "outputId": "ee9ada89-cf0c-40be-c361-9c8258cf1c32",
        "colab": {
          "base_uri": "https://localhost:8080/"
        }
      },
      "execution_count": 41,
      "outputs": [
        {
          "output_type": "stream",
          "name": "stdout",
          "text": [
            "+--------------------+\n",
            "|                text|\n",
            "+--------------------+\n",
            "|Peter Parker is a...|\n",
            "+--------------------+\n",
            "\n"
          ]
        }
      ]
    },
    {
      "cell_type": "code",
      "source": [
        "preds = prediction_model.transform(sample_data)\n",
        "preds.show()"
      ],
      "metadata": {
        "id": "CIVr4d4fxBeJ",
        "outputId": "193ff43b-476c-43ba-b3c1-31440ed95f8f",
        "colab": {
          "base_uri": "https://localhost:8080/"
        }
      },
      "execution_count": 42,
      "outputs": [
        {
          "output_type": "stream",
          "name": "stdout",
          "text": [
            "+--------------------+--------------------+--------------------+--------------------+--------------------+--------------------+--------------------+\n",
            "|                text|            document|            sentence|               token|                bert|                 ner|            ner_span|\n",
            "+--------------------+--------------------+--------------------+--------------------+--------------------+--------------------+--------------------+\n",
            "|Peter Parker is a...|[[document, 0, 48...|[[document, 0, 48...|[[token, 0, 4, Pe...|[[word_embeddings...|[[named_entity, 0...|[[chunk, 0, 11, P...|\n",
            "+--------------------+--------------------+--------------------+--------------------+--------------------+--------------------+--------------------+\n",
            "\n"
          ]
        }
      ]
    },
    {
      "cell_type": "code",
      "source": [
        "preds.select('ner_span.result').take(1)"
      ],
      "metadata": {
        "id": "65eNzeIQxOWP",
        "outputId": "7d01c962-f4f8-42bc-ee50-34fa70d1c35d",
        "colab": {
          "base_uri": "https://localhost:8080/"
        }
      },
      "execution_count": 43,
      "outputs": [
        {
          "output_type": "execute_result",
          "data": {
            "text/plain": [
              "[Row(result=['Peter Parker'])]"
            ]
          },
          "metadata": {},
          "execution_count": 43
        }
      ]
    },
    {
      "cell_type": "code",
      "source": [
        "preds.select(F.explode(F.arrays_zip(\"ner_span.result\",\"ner_span.metadata\")).alias(\"entities\")) \\\n",
        ".select(F.expr(\"entities['0']\").alias(\"chunk\"),\n",
        "        F.expr(\"entities['1'].entity\").alias(\"entity\")).show(truncate=False)"
      ],
      "metadata": {
        "id": "hOP54i1rxONb",
        "outputId": "7aa8ee87-6438-472e-d8e7-6009f96ce1b4",
        "colab": {
          "base_uri": "https://localhost:8080/"
        }
      },
      "execution_count": 44,
      "outputs": [
        {
          "output_type": "stream",
          "name": "stdout",
          "text": [
            "+------------+------+\n",
            "|chunk       |entity|\n",
            "+------------+------+\n",
            "|Peter Parker|CW    |\n",
            "+------------+------+\n",
            "\n"
          ]
        }
      ]
    },
    {
      "cell_type": "code",
      "source": [
        ""
      ],
      "metadata": {
        "id": "fbKR5bnpyM1V"
      },
      "execution_count": null,
      "outputs": []
    },
    {
      "cell_type": "code",
      "source": [
        ""
      ],
      "metadata": {
        "id": "IYFlC9sdyMyD"
      },
      "execution_count": null,
      "outputs": []
    },
    {
      "cell_type": "code",
      "source": [
        ""
      ],
      "metadata": {
        "id": "XBcN0tMkyMvI"
      },
      "execution_count": null,
      "outputs": []
    },
    {
      "cell_type": "code",
      "source": [
        ""
      ],
      "metadata": {
        "id": "TxZNCf8jyMrh"
      },
      "execution_count": null,
      "outputs": []
    },
    {
      "cell_type": "code",
      "source": [
        "# document = DocumentAssembler()\\\n",
        "#     .setInputCol(\"text\")\\\n",
        "#     .setOutputCol(\"document\")\n",
        "\n",
        "# sentence = SentenceDetector()\\\n",
        "#     .setInputCols(['document'])\\\n",
        "#     .setOutputCol('sentence')\n",
        "\n",
        "# token = Tokenizer()\\\n",
        "#     .setInputCols(['sentence'])\\\n",
        "#     .setOutputCol('token')\n",
        "\n",
        "# loaded_ner_model = NerDLModel.load(\"NER_bert_20200219\")\\\n",
        "#  .setInputCols([\"sentence\", \"token\", \"glove\"])\\\n",
        "#  .setOutputCol(\"ner\")\n",
        "\n",
        "# converter = NerConverter()\\\n",
        "#   .setInputCols([\"document\", \"token\", \"ner\"])\\\n",
        "#   .setOutputCol(\"ner_span\")\n",
        "\n",
        "# glove_ner_prediction_pipeline = Pipeline(\n",
        "#     stages = [\n",
        "#         document,\n",
        "#         sentence,\n",
        "#         token,\n",
        "#         glove,\n",
        "#         loaded_ner_model,\n",
        "#         converter])"
      ],
      "metadata": {
        "id": "nHrjyUnqsp0s",
        "outputId": "02989953-ac68-42ef-df69-7b68d2e8767d",
        "colab": {
          "base_uri": "https://localhost:8080/",
          "height": 236
        }
      },
      "execution_count": 32,
      "outputs": [
        {
          "output_type": "error",
          "ename": "NameError",
          "evalue": "ignored",
          "traceback": [
            "\u001b[0;31m---------------------------------------------------------------------------\u001b[0m",
            "\u001b[0;31mNameError\u001b[0m                                 Traceback (most recent call last)",
            "\u001b[0;32m<ipython-input-32-a662b6f7c624>\u001b[0m in \u001b[0;36m<module>\u001b[0;34m()\u001b[0m\n\u001b[1;32m     14\u001b[0m         \u001b[0msentence\u001b[0m\u001b[0;34m,\u001b[0m\u001b[0;34m\u001b[0m\u001b[0;34m\u001b[0m\u001b[0m\n\u001b[1;32m     15\u001b[0m         \u001b[0mtoken\u001b[0m\u001b[0;34m,\u001b[0m\u001b[0;34m\u001b[0m\u001b[0;34m\u001b[0m\u001b[0m\n\u001b[0;32m---> 16\u001b[0;31m         \u001b[0mglove\u001b[0m\u001b[0;34m,\u001b[0m\u001b[0;34m\u001b[0m\u001b[0;34m\u001b[0m\u001b[0m\n\u001b[0m\u001b[1;32m     17\u001b[0m         \u001b[0mloaded_ner_model\u001b[0m\u001b[0;34m,\u001b[0m\u001b[0;34m\u001b[0m\u001b[0;34m\u001b[0m\u001b[0m\n\u001b[1;32m     18\u001b[0m         converter])\n",
            "\u001b[0;31mNameError\u001b[0m: name 'glove' is not defined"
          ]
        }
      ]
    },
    {
      "cell_type": "code",
      "source": [
        ""
      ],
      "metadata": {
        "id": "BDJJ3GeyxZk0"
      },
      "execution_count": null,
      "outputs": []
    },
    {
      "cell_type": "code",
      "source": [
        ""
      ],
      "metadata": {
        "id": "05s6EWNfxZUf"
      },
      "execution_count": null,
      "outputs": []
    },
    {
      "cell_type": "code",
      "source": [
        ""
      ],
      "metadata": {
        "id": "85gMFm1wxZQ5"
      },
      "execution_count": null,
      "outputs": []
    },
    {
      "cell_type": "code",
      "source": [
        ""
      ],
      "metadata": {
        "id": "WHfToMd0spwH"
      },
      "execution_count": null,
      "outputs": []
    },
    {
      "cell_type": "code",
      "source": [
        "# !git clone https://github.com/JohnSnowLabs/spark-nlp"
      ],
      "metadata": {
        "id": "lQN9VKAS2Fx0"
      },
      "execution_count": null,
      "outputs": []
    },
    {
      "cell_type": "code",
      "source": [
        "# %cd spark-nlp/python/tensorflow\n",
        "# %cd /content"
      ],
      "metadata": {
        "id": "XJ7Dj4S56Irn"
      },
      "execution_count": null,
      "outputs": []
    },
    {
      "cell_type": "code",
      "source": [
        "# %env PYTHONPATH=\"/env/python:/content/spark-nlp/python/tensorflow/lib/ner\"\n",
        "# %env PYTHONPATH=\"$/env/python:/content/spark-nlp/python/tensorflow/lib/ner\"\n",
        "# %set_env PYTHONPATH=/content/spark-nlp/python/tensorflow/lib/ner:/env/python ## working solution\n",
        "# %set_env PYTHONPATH=/env/python"
      ],
      "metadata": {
        "id": "TVBUE5MW6XDX"
      },
      "execution_count": null,
      "outputs": []
    },
    {
      "cell_type": "code",
      "source": [
        "# !source /content/ner_venv/bin/activate; python ner/create_models.py 13 128 220 /content/data"
      ],
      "metadata": {
        "id": "aFXm0jl66cAo"
      },
      "execution_count": null,
      "outputs": []
    },
    {
      "cell_type": "code",
      "source": [
        "# !pip install virtualenv\n",
        "# !virtualenv ner_venv\n",
        "# !virtualenv -p /usr/bin/python3.6 ner_venv ## working solution"
      ],
      "metadata": {
        "id": "co3ONkd_9WNG"
      },
      "execution_count": null,
      "outputs": []
    },
    {
      "cell_type": "code",
      "source": [
        "# !source /content/ner_venv/bin/activate; pip install tensorflow==1.15.0"
      ],
      "metadata": {
        "id": "0AjaeVMk_VW_"
      },
      "execution_count": null,
      "outputs": []
    },
    {
      "cell_type": "code",
      "source": [
        ""
      ],
      "metadata": {
        "id": "TRum28PRAlW4"
      },
      "execution_count": null,
      "outputs": []
    },
    {
      "cell_type": "markdown",
      "source": [
        "Ref: [link](https://github.com/JohnSnowLabs/spark-nlp-workshop/blob/master/tutorials/blogposts/3.NER_with_BERT.ipynb)"
      ],
      "metadata": {
        "id": "vfD_aZ34yOHB"
      }
    },
    {
      "cell_type": "code",
      "source": [
        ""
      ],
      "metadata": {
        "id": "PtZPuna6yS2B"
      },
      "execution_count": null,
      "outputs": []
    }
  ]
}