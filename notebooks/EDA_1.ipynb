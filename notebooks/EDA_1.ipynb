{
 "cells": [
  {
   "cell_type": "code",
   "execution_count": 1,
   "source": [
    "import os "
   ],
   "outputs": [],
   "metadata": {}
  },
  {
   "cell_type": "code",
   "execution_count": 5,
   "source": [
    "WORKING_DIR = os.path.dirname(os.getcwd())\r\n",
    "DATA_DIR = os.path.join(WORKING_DIR, 'data')"
   ],
   "outputs": [],
   "metadata": {}
  },
  {
   "cell_type": "code",
   "execution_count": 7,
   "source": [
    "for root, dirs, files in os.walk(DATA_DIR):\r\n",
    "    print(\"{0} has {1} files, {2} dirs\".format(root, len(files), len(dirs)))"
   ],
   "outputs": [
    {
     "output_type": "stream",
     "name": "stdout",
     "text": [
      "f:\\MACHINE_LEARNING_RESEARCH_LAB\\MultiCoNER\\MultiCoNER\\data has 1 files, 2 dirs\n",
      "f:\\MACHINE_LEARNING_RESEARCH_LAB\\MultiCoNER\\MultiCoNER\\data\\BN-Bangla has 2 files, 0 dirs\n",
      "f:\\MACHINE_LEARNING_RESEARCH_LAB\\MultiCoNER\\MultiCoNER\\data\\EN-English has 2 files, 0 dirs\n"
     ]
    }
   ],
   "metadata": {}
  },
  {
   "cell_type": "code",
   "execution_count": 10,
   "source": [
    "file_path = os.path.join(DATA_DIR, 'semeval_2021_task_11_trial_data.txt')\r\n",
    "\r\n",
    "with open(file_path, 'r') as f:\r\n",
    "    lines = f.readlines()\r\n",
    "\r\n",
    "print(len(lines))\r\n",
    "\r\n",
    "for line in lines[2:10]:\r\n",
    "    print(line)"
   ],
   "outputs": [
    {
     "output_type": "stream",
     "name": "stdout",
     "text": [
      "1129\n",
      "songes _ _ O\n",
      "\n",
      "was _ _ O\n",
      "\n",
      "chosen _ _ O\n",
      "\n",
      "internally _ _ O\n",
      "\n",
      "by _ _ O\n",
      "\n",
      "broadcaster _ _ O\n",
      "\n",
      "france _ _ B-CORP\n",
      "\n",
      "2 _ _ I-CORP\n",
      "\n"
     ]
    }
   ],
   "metadata": {}
  },
  {
   "cell_type": "code",
   "execution_count": null,
   "source": [],
   "outputs": [],
   "metadata": {}
  }
 ],
 "metadata": {
  "orig_nbformat": 4,
  "language_info": {
   "name": "python",
   "version": "3.7.6",
   "mimetype": "text/x-python",
   "codemirror_mode": {
    "name": "ipython",
    "version": 3
   },
   "pygments_lexer": "ipython3",
   "nbconvert_exporter": "python",
   "file_extension": ".py"
  },
  "kernelspec": {
   "name": "python3",
   "display_name": "Python 3.7.6 64-bit ('base': conda)"
  },
  "interpreter": {
   "hash": "b3ba2566441a7c06988d0923437866b63cedc61552a5af99d1f4fb67d367b25f"
  }
 },
 "nbformat": 4,
 "nbformat_minor": 2
}